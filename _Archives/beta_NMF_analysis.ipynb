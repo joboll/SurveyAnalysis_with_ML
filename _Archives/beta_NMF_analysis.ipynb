{
  "cells": [
   {
    "cell_type": "markdown",
    "metadata": {},
    "source": [
     "## Importing, cleaning and wrangling"
    ]
   },
   {
    "cell_type": "code",
    "execution_count": 2,
    "metadata": {},
    "outputs": [],
    "source": [
     "import pandas as pd\n",
     "import numpy as np\n",
     "from pandas.api.types import CategoricalDtype\n",
     "import matplotlib.pyplot as plt\n",
     "import seaborn as sns\n",
     "from statsmodels.graphics.mosaicplot import mosaic"
    ]
   },
   {
    "cell_type": "code",
    "execution_count": 3,
    "metadata": {},
    "outputs": [],
    "source": [
     "# import data with a context manager\n",
     "with open(\"data_beta.csv\") as fp:\n",
     "    df = pd.read_csv(fp) \n",
     "\n",
     "    names = df['last_name'].tolist()\n",
     "    \n",
     "    # Drop unnecessary columns from df\n",
     "    dropcol = ['first_name', 'last_name', 'google_email', 'smarthalo_email', 'accessory_channels', 'submitted_date', 'token']\n",
     "    df.drop(columns= dropcol, inplace= True)\n",
     "    \n",
     "    # convert to categorical data in the df\n",
     "    catcol = [\"age\", \"gender\", \"platform\", \"income\", \"experience\", \"rides_per_week\", \"num_bikes_owned\", \"bike_cost\", \"location\", \"environment\", 'accessory_factor', 'smarthalo_versions','crowdfunded_smarthalo' ]\n",
     "    for col in catcol:\n",
     "        df[col] = df[col].astype('category')"
    ]
   },
   {
    "cell_type": "code",
    "execution_count": 4,
    "metadata": {},
    "outputs": [
     {
      "name": "stdout",
      "output_type": "stream",
      "text": [
       "<class 'pandas.core.frame.DataFrame'>\n",
       "RangeIndex: 145 entries, 0 to 144\n",
       "Data columns (total 20 columns):\n",
       "age                      145 non-null category\n",
       "gender                   145 non-null category\n",
       "platform                 145 non-null category\n",
       "income                   145 non-null category\n",
       "experience               145 non-null category\n",
       "rides_per_week           145 non-null category\n",
       "bike_type                145 non-null object\n",
       "num_bikes_owned          145 non-null category\n",
       "bike_cost                145 non-null category\n",
       "location                 145 non-null category\n",
       "environment              145 non-null category\n",
       "companions               145 non-null object\n",
       "conditions               145 non-null object\n",
       "activities               145 non-null object\n",
       "reasons_to_bike          145 non-null object\n",
       "reasons_to_not_bike      145 non-null object\n",
       "reason_for_smarthalo     145 non-null object\n",
       "smarthalo_versions       145 non-null category\n",
       "crowdfunded_smarthalo    145 non-null category\n",
       "accessory_factor         145 non-null category\n",
       "dtypes: category(13), object(7)\n",
       "memory usage: 13.0+ KB\n"
      ]
     }
    ],
    "source": [
     "df.info()"
    ]
   },
   {
    "cell_type": "code",
    "execution_count": 5,
    "metadata": {},
    "outputs": [
     {
      "name": "stdout",
      "output_type": "stream",
      "text": [
       "35-44 years    49\n",
       "55+ years      32\n",
       "45-54 years    31\n",
       "25-34 years    30\n",
       "0-25 years      3\n",
       "Name: age, dtype: int64 \n",
       "\n",
       "Male                 126\n",
       "Female                14\n",
       "Non-binary             4\n",
       "Prefer not to say      1\n",
       "Name: gender, dtype: int64 \n",
       "\n",
       "iOS        85\n",
       "Android    60\n",
       "Name: platform, dtype: int64 \n",
       "\n",
       "80,000+ / year            51\n",
       "40,000 - 79,000 / year    45\n",
       "Prefer not to say         26\n",
       "0 - 39,999 / year         23\n",
       "Name: income, dtype: int64 \n",
       "\n",
       "8     50\n",
       "7     33\n",
       "9     29\n",
       "10    17\n",
       "6     11\n",
       "5      4\n",
       "4      1\n",
       "Name: experience, dtype: int64 \n",
       "\n",
       "3 or more times a week    105\n",
       "1-2 times a week           28\n",
       "Less than once a week      12\n",
       "Name: rides_per_week, dtype: int64 \n",
       "\n",
       "2     56\n",
       "1     52\n",
       "3+    37\n",
       "Name: num_bikes_owned, dtype: int64 \n",
       "\n",
       "500 - 1000       45\n",
       "1000 - 2000      43\n",
       "2000 - 4000      29\n",
       "100 - 500        14\n",
       "4000+            13\n",
       "Less than 100     1\n",
       "Name: bike_cost, dtype: int64 \n",
       "\n",
       "United States     46\n",
       "Canada            28\n",
       "Netherlands       15\n",
       "France            13\n",
       "Germany           13\n",
       "United Kingdom     6\n",
       "Japan              3\n",
       "Australia          3\n",
       "Italy              2\n",
       "India              2\n",
       "Spain              2\n",
       "Switzerland        2\n",
       "Luxembourg         1\n",
       "Nauru              1\n",
       "New Zealand        1\n",
       "Norway             1\n",
       "Czech Republic     1\n",
       "Costa Rica         1\n",
       "Brazil             1\n",
       "Belgium            1\n",
       "Austria            1\n",
       "Israel             1\n",
       "Name: location, dtype: int64 \n",
       "\n",
       "CITY - urban, dense, etc.               88\n",
       "TOWN - neighbourhood, suburban, etc.    35\n",
       "RURAL - village, country, etc.          15\n",
       "NATURE - mountains, forests, etc.        7\n",
       "Name: environment, dtype: int64 \n",
       "\n",
       "It meets all my needs                              87\n",
       "Price                                              19\n",
       "Online reviews                                     19\n",
       "The brand/company                                  10\n",
       "Influencer recommendations                          4\n",
       "Friend/family recommendations                       4\n",
       "that i want it                                      1\n",
       "When I find it useful and cool at the same time     1\n",
       "Name: accessory_factor, dtype: int64 \n",
       "\n",
       "SmartHalo 1    90\n",
       "Both           52\n",
       "SmartHalo 2     3\n",
       "Name: smarthalo_versions, dtype: int64 \n",
       "\n",
       "I backed both                     52\n",
       "I backed SmartHalo 1              46\n",
       "I backed SmartHalo 2              26\n",
       "I got my SmartHalo another way    21\n",
       "Name: crowdfunded_smarthalo, dtype: int64 \n",
       "\n"
      ]
     }
    ],
    "source": [
     "for i in catcol:\n",
     "    print(df[i].value_counts(dropna=False), '\\n')"
    ]
   },
   {
    "cell_type": "markdown",
    "metadata": {},
    "source": [
     "## Exploring ML as analysis tool"
    ]
   },
   {
    "cell_type": "markdown",
    "metadata": {},
    "source": [
     "### Unsupervized learning in Python Chap3 p. 33\n",
     "scipy.sparse.csr_matrix"
    ]
   },
   {
    "cell_type": "code",
    "execution_count": 6,
    "metadata": {},
    "outputs": [
     {
      "name": "stdout",
      "output_type": "stream",
      "text": [
       "Number of unique combinaison of answer for each questions \n",
       "\n",
       "Bike_type:   65\n",
       "Companions:   14\n",
       "Conditions:   32\n",
       "Activities:   115\n",
       "Reasons_to_bike:   127\n",
       "Reasons_to_not_bike:   85\n",
       "Reason_for_smarthalo:   97\n"
      ]
     }
    ],
    "source": [
     "to_sparse = ['bike_type', 'companions', 'conditions', 'activities', 'reasons_to_bike', 'reasons_to_not_bike', 'reason_for_smarthalo']\n",
     "\n",
     "print('Number of unique combinaison of answer for each questions', '\\n')\n",
     "for i in to_sparse:\n",
     "    print('{}:  '.format(i.capitalize()), df[i].nunique())"
    ]
   },
   {
    "cell_type": "markdown",
    "metadata": {},
    "source": [
     "### NLP tokenization & sklearn CountVectorizer() "
    ]
   },
   {
    "cell_type": "code",
    "execution_count": 7,
    "metadata": {},
    "outputs": [
     {
      "name": "stdout",
      "output_type": "stream",
      "text": [
       "['all road', 'bike share bike', 'brompton', 'brompton folding ', 'cargo bike', 'cruiser / city bike', 'e-bike', 'faltrad', 'fat', 'fat bike', 'foldable', 'folding', 'gravel bike', 'hybrid bike', 'mountain bike', 'recumbent', 'recumbent trike', 'road bike', 'single-speed bike', 'speed pedelec (45km/h e-bike)', 'time-trial race bike', 'touring', 'touring bike'] \n",
       "\n",
       "['i bike alone', 'with a riding pack', 'with family and friends', 'with young children'] \n",
       "\n",
       "['hot/humid', 'night', 'rain', 'snow/ice', 'temperate'] \n",
       "\n",
       "['chores / errands', 'commuting', 'fitness', 'mountain biking', 'pleasure rides', 'racing', 'teaching', 'touring', 'transportation', 'work'] \n",
       "\n",
       "['endurance training and relaxation', 'i have friends/family who also bike', 'i want to be healthy', 'i want to reduce my environmental impact', 'i want to set a good example for my kids', 'it energizes me', 'it enhances my calm', 'it’s a unique way to see the world', 'it’s cheaper', 'it’s faster', 'it’s more convenient', 'it’s more fun', 'it’s more reliable', 'it’s my hobby/interest', 'it’s part of my identity/culture'] \n",
       "\n",
       "[\"i don't know the way\", \"i don't want to sweat\", 'i feel lazy', 'i have to carry things with me', \"it wouldn't be fun\", \"it's not safe for me\", \"it's not safe for my bike\", \"it's too dark\", 'the route is too long/steep', \"the weather doesn't suit me\"] \n",
       "\n",
       "['because i have smarthalo 1 and love it ', \"because it's cool!\", 'for a press review', 'it was a gift', 'it was a gift. but i bought the new model myself', 'local support mtl', 'safest routes)', \"so i don't have to look at my phone while riding\", 'to help keep my bike safe', 'to help me keep track of my environmental goals', 'to help me keep track of my fitness goals', 'to help me navigate', 'to help me stay safe (nightlight', 'to support a new company that came up with a revolutionary design', 'using the latest gadget is also hobby', 'why not?'] \n",
       "\n"
      ]
     }
    ],
    "source": [
     "from sklearn.feature_extraction.text import CountVectorizer\n",
     "\n",
     "# Instantiate the CountVectorizer: vec\n",
     "vec = CountVectorizer(tokenizer=lambda x: x.split(', '))  # Object to convert in matrix of token counts \n",
     "\n",
     "# Fit to the data\n",
     "for i in to_sparse:\n",
     "    vec.fit(df[i]) # Convert df.bike_type to matrix of token\n",
     "    print(vec.get_feature_names(), '\\n')\n",
     "\n",
     "#Archives\n",
     "# TOKENS = '(?:[a-zA-Z1-9/-]|\\s)' # Take only strings between ',' as token but, lamba function x.split(', ') works better   \n",
     "# print(\"There are {} tokens in the dataset\".format(len(vec.get_feature_names())))"
    ]
   },
   {
    "cell_type": "code",
    "execution_count": 8,
    "metadata": {},
    "outputs": [],
    "source": [
     "# {'col_to_parse': {'value_to_replace': 'replace_with_value'}}\n",
     "replace_val = {'bike_type': {'gravel bike': 'all road', 'Brompton': 'foldable', 'Brompton folding ': 'foldable', 'folding': 'foldable', 'FALTRAD': 'foldable', 'fat': 'fat bike', 'recumbent trike': 'recumbent', 'speed pedelec (45km/h e-bike)': 'e-bike', 'time-trial race bike': 'road bike', 'touring': 'touring bike'}}\n",
     "df.bike_type.replace(replace_val, inplace=True)"
    ]
   },
   {
    "cell_type": "code",
    "execution_count": 9,
    "metadata": {},
    "outputs": [
     {
      "data": {
       "text/plain": [
        "['all road',\n",
        " 'bike share bike',\n",
        " 'brompton',\n",
        " 'brompton folding ',\n",
        " 'cargo bike',\n",
        " 'cruiser / city bike',\n",
        " 'e-bike',\n",
        " 'faltrad',\n",
        " 'fat',\n",
        " 'fat bike',\n",
        " 'foldable',\n",
        " 'folding',\n",
        " 'gravel bike',\n",
        " 'hybrid bike',\n",
        " 'mountain bike',\n",
        " 'recumbent',\n",
        " 'recumbent trike',\n",
        " 'road bike',\n",
        " 'single-speed bike',\n",
        " 'speed pedelec (45km/h e-bike)',\n",
        " 'time-trial race bike',\n",
        " 'touring',\n",
        " 'touring bike']"
       ]
      },
      "execution_count": 9,
      "metadata": {},
      "output_type": "execute_result"
     }
    ],
    "source": [
     "vec.fit(df['bike_type'])\n",
     "vec.get_feature_names()"
    ]
   },
   {
    "cell_type": "code",
    "execution_count": 10,
    "metadata": {},
    "outputs": [
     {
      "data": {
       "text/plain": [
        "0    Hybrid bike, I bike alone, Hot/Humid, Night, T...\n",
        "1    Road bike, I bike alone, Temperate, Rain, Hot/...\n",
        "2    Hybrid bike, I bike alone, Temperate, Commutin...\n",
        "3    Hybrid bike, I bike alone, Night, Temperate, R...\n",
        "4    Mountain bike, With family and friends, Temper...\n",
        "dtype: object"
       ]
      },
      "execution_count": 10,
      "metadata": {},
      "output_type": "execute_result"
     }
    ],
    "source": [
     "df_text = df[to_sparse].apply(lambda x: \", \".join(x), axis=1)\n",
     "df_text.head()"
    ]
   },
   {
    "cell_type": "code",
    "execution_count": 11,
    "metadata": {},
    "outputs": [
     {
      "name": "stdout",
      "output_type": "stream",
      "text": [
       "There are 82 tokens in the dataset\n"
      ]
     }
    ],
    "source": [
     "# Instantiate the CountVectorizer: vec\n",
     "vec = CountVectorizer(tokenizer=lambda x: x.split(', '))  # Object to convert in matrix of token counts \n",
     "\n",
     "# Fit to the data\n",
     "X = vec.fit_transform(df_text) # Convert df.bike_type to matrix of token\n",
     "print(\"There are {} tokens in the dataset\".format(len(vec.get_feature_names())))"
    ]
   },
   {
    "cell_type": "code",
    "execution_count": 12,
    "metadata": {},
    "outputs": [
     {
      "data": {
       "text/plain": [
        "['all road',\n",
        " 'because i have smarthalo 1 and love it ',\n",
        " \"because it's cool!\",\n",
        " 'bike share bike',\n",
        " 'brompton',\n",
        " 'brompton folding ',\n",
        " 'cargo bike',\n",
        " 'chores / errands',\n",
        " 'commuting',\n",
        " 'cruiser / city bike',\n",
        " 'e-bike',\n",
        " 'endurance training and relaxation',\n",
        " 'faltrad',\n",
        " 'fat',\n",
        " 'fat bike',\n",
        " 'fitness',\n",
        " 'foldable',\n",
        " 'folding',\n",
        " 'for a press review',\n",
        " 'gravel bike',\n",
        " 'hot/humid',\n",
        " 'hybrid bike',\n",
        " 'i bike alone',\n",
        " \"i don't know the way\",\n",
        " \"i don't want to sweat\",\n",
        " 'i feel lazy',\n",
        " 'i have friends/family who also bike',\n",
        " 'i have to carry things with me',\n",
        " 'i want to be healthy',\n",
        " 'i want to reduce my environmental impact',\n",
        " 'i want to set a good example for my kids',\n",
        " 'it energizes me',\n",
        " 'it enhances my calm',\n",
        " 'it was a gift',\n",
        " 'it was a gift. but i bought the new model myself',\n",
        " \"it wouldn't be fun\",\n",
        " \"it's not safe for me\",\n",
        " \"it's not safe for my bike\",\n",
        " \"it's too dark\",\n",
        " 'it’s a unique way to see the world',\n",
        " 'it’s cheaper',\n",
        " 'it’s faster',\n",
        " 'it’s more convenient',\n",
        " 'it’s more fun',\n",
        " 'it’s more reliable',\n",
        " 'it’s my hobby/interest',\n",
        " 'it’s part of my identity/culture',\n",
        " 'local support mtl',\n",
        " 'mountain bike',\n",
        " 'mountain biking',\n",
        " 'night',\n",
        " 'pleasure rides',\n",
        " 'racing',\n",
        " 'rain',\n",
        " 'recumbent',\n",
        " 'recumbent trike',\n",
        " 'road bike',\n",
        " 'safest routes)',\n",
        " 'single-speed bike',\n",
        " 'snow/ice',\n",
        " \"so i don't have to look at my phone while riding\",\n",
        " 'speed pedelec (45km/h e-bike)',\n",
        " 'teaching',\n",
        " 'temperate',\n",
        " 'the route is too long/steep',\n",
        " \"the weather doesn't suit me\",\n",
        " 'time-trial race bike',\n",
        " 'to help keep my bike safe',\n",
        " 'to help me keep track of my environmental goals',\n",
        " 'to help me keep track of my fitness goals',\n",
        " 'to help me navigate',\n",
        " 'to help me stay safe (nightlight',\n",
        " 'to support a new company that came up with a revolutionary design',\n",
        " 'touring',\n",
        " 'touring bike',\n",
        " 'transportation',\n",
        " 'using the latest gadget is also hobby',\n",
        " 'why not?',\n",
        " 'with a riding pack',\n",
        " 'with family and friends',\n",
        " 'with young children',\n",
        " 'work']"
       ]
      },
      "execution_count": 12,
      "metadata": {},
      "output_type": "execute_result"
     }
    ],
    "source": [
     "vec.get_feature_names()"
    ]
   },
   {
    "cell_type": "code",
    "execution_count": 13,
    "metadata": {},
    "outputs": [],
    "source": [
     "# X_train, X_test, y_train, y_test = train_test_split(vec, random_state=456)\n",
     "df_matrix = pd.DataFrame(X.toarray(), columns=vec.get_feature_names())"
    ]
   },
   {
    "cell_type": "markdown",
    "metadata": {},
    "source": [
     "### Unsupervized learning in Python Chap1 p. 31\n",
     "from sklearn.preprocessing import StandardScaler\n",
     "scaler = StandardScaler()\n",
     "scaler.fit(samples)\n",
     "StandardScaler(copy=True, with_mean=True, with_std=True)\n",
     "samples_scaled = scaler.transform(samples)"
    ]
   },
   {
    "cell_type": "markdown",
    "metadata": {},
    "source": [
     "### Unsupervized learning in Python Chap4 p. 7\n",
     "NMF with word frequency array"
    ]
   },
   {
    "cell_type": "code",
    "execution_count": 14,
    "metadata": {},
    "outputs": [
     {
      "name": "stdout",
      "output_type": "stream",
      "text": [
       "(145, 5)\n"
      ]
     }
    ],
    "source": [
     "from sklearn.decomposition import NMF\n",
     "\n",
     "matrix = X.toarray()\n",
     "model = NMF(n_components=5)\n",
     "model.fit(matrix)\n",
     "nmf_features = model.transform(matrix)\n",
     "'''\n",
     "POST: \n",
     "    matrix is a (# users) x (# unique feature combination) matrix \n",
     "        - you can think of it as ... (ask Jo)? \n",
     "        \n",
     "    nmf_features is a (# users) x (# components) matrix\n",
     "        - you can think of it as each user's affinity towards each component\n",
     "'''\n",
     "\n",
     "print(nmf_features.shape)"
    ]
   },
   {
    "cell_type": "code",
    "execution_count": 34,
    "metadata": {},
    "outputs": [
     {
      "name": "stdout",
      "output_type": "stream",
      "text": [
       "Persona 0 fit    0.324252\n",
       "Persona 1 fit    0.000000\n",
       "Persona 2 fit    0.457695\n",
       "Persona 3 fit    0.032516\n",
       "Persona 4 fit    0.266342\n",
       "Name: Denis, dtype: float64\n"
      ]
     },
     {
      "data": {
       "text/html": [
        "<div>\n",
        "<style scoped>\n",
        "    .dataframe tbody tr th:only-of-type {\n",
        "        vertical-align: middle;\n",
        "    }\n",
        "\n",
        "    .dataframe tbody tr th {\n",
        "        vertical-align: top;\n",
        "    }\n",
        "\n",
        "    .dataframe thead th {\n",
        "        text-align: right;\n",
        "    }\n",
        "</style>\n",
        "<table border=\"1\" class=\"dataframe\">\n",
        "  <thead>\n",
        "    <tr style=\"text-align: right;\">\n",
        "      <th></th>\n",
        "      <th>Persona 0 fit</th>\n",
        "      <th>Persona 1 fit</th>\n",
        "      <th>Persona 2 fit</th>\n",
        "      <th>Persona 3 fit</th>\n",
        "      <th>Persona 4 fit</th>\n",
        "    </tr>\n",
        "  </thead>\n",
        "  <tbody>\n",
        "    <tr>\n",
        "      <td>Haywood</td>\n",
        "      <td>0.576241</td>\n",
        "      <td>0.400315</td>\n",
        "      <td>0.000000</td>\n",
        "      <td>0.378666</td>\n",
        "      <td>0.000000</td>\n",
        "    </tr>\n",
        "    <tr>\n",
        "      <td>provot</td>\n",
        "      <td>0.484969</td>\n",
        "      <td>0.000000</td>\n",
        "      <td>0.231475</td>\n",
        "      <td>0.373865</td>\n",
        "      <td>0.005636</td>\n",
        "    </tr>\n",
        "    <tr>\n",
        "      <td>Gray</td>\n",
        "      <td>0.094388</td>\n",
        "      <td>0.690324</td>\n",
        "      <td>0.129694</td>\n",
        "      <td>0.378387</td>\n",
        "      <td>0.164724</td>\n",
        "    </tr>\n",
        "    <tr>\n",
        "      <td>Glenn</td>\n",
        "      <td>0.136949</td>\n",
        "      <td>0.459253</td>\n",
        "      <td>0.058949</td>\n",
        "      <td>0.366075</td>\n",
        "      <td>0.573129</td>\n",
        "    </tr>\n",
        "    <tr>\n",
        "      <td>Hammocks</td>\n",
        "      <td>0.000000</td>\n",
        "      <td>0.191162</td>\n",
        "      <td>0.206325</td>\n",
        "      <td>0.000000</td>\n",
        "      <td>0.580798</td>\n",
        "    </tr>\n",
        "  </tbody>\n",
        "</table>\n",
        "</div>"
       ],
       "text/plain": [
        "          Persona 0 fit  Persona 1 fit  Persona 2 fit  Persona 3 fit  \\\n",
        "Haywood        0.576241       0.400315       0.000000       0.378666   \n",
        "provot         0.484969       0.000000       0.231475       0.373865   \n",
        "Gray           0.094388       0.690324       0.129694       0.378387   \n",
        "Glenn          0.136949       0.459253       0.058949       0.366075   \n",
        "Hammocks       0.000000       0.191162       0.206325       0.000000   \n",
        "\n",
        "          Persona 4 fit  \n",
        "Haywood        0.000000  \n",
        "provot         0.005636  \n",
        "Gray           0.164724  \n",
        "Glenn          0.573129  \n",
        "Hammocks       0.580798  "
       ]
      },
      "execution_count": 34,
      "metadata": {},
      "output_type": "execute_result"
     }
    ],
    "source": [
     "#put nmf_features data into a DataFrame so we can reference it by the names each user has\n",
     "df_nmf = pd.DataFrame(nmf_features,index=names)\n",
     "\n",
     "#set column names\n",
     "col_names = []\n",
     "for x in range(0, model.components_.shape[0]):\n",
     "    col_names.append(\"Persona {} fit\".format(x))\n",
     "\n",
     "df_nmf.columns = col_names\n",
     "    \n",
     "#to see a single user's personas\n",
     "print(df_nmf.loc['Denis'])\n",
     "\n",
     "#to see multi-users\n",
     "df_nmf.head()"
    ]
   },
   {
    "cell_type": "code",
    "execution_count": 16,
    "metadata": {},
    "outputs": [
     {
      "name": "stdout",
      "output_type": "stream",
      "text": [
       "There are 70(48.3%) people in persona 0\n",
       "There are 60(41.4%) people in persona 1\n",
       "There are 33(22.8%) people in persona 2\n",
       "There are 50(34.5%) people in persona 3\n",
       "There are 63(43.4%) people in persona 4\n",
       "5(3.4%) have not been put into a persona\n"
      ]
     }
    ],
    "source": [
     "#get names for each persona\n",
     "total_num_users = len(names)\n",
     "\n",
     "#initalize the lists we'll use\n",
     "persona_names=[]\n",
     "no_persona_names=[]\n",
     "for x in range(0, model.components_.shape[0]):\n",
     "    persona_names.append([])\n",
     "\n",
     "for name,persona_affinities in df_nmf.iterrows():\n",
     "    #print(persona_affinities)\n",
     "    is_sorted=False\n",
     "    for x in range(0,persona_affinities.shape[0]):\n",
     "        if persona_affinities[x] >= 0.3:\n",
     "            persona_names[x].append(name)\n",
     "            is_sorted=True\n",
     "            \n",
     "    if not is_sorted:\n",
     "        no_persona_names.append(name)\n",
     "\n",
     "for x in range(0, model.components_.shape[0]):\n",
     "    num_users = len(persona_names[x])\n",
     "    percent_users = round(num_users/total_num_users*100,1)\n",
     "    print(\"There are {}({}%) people in persona {}\".format(num_users, percent_users, x))\n",
     "\n",
     "num_no_persona = len(no_persona_names)\n",
     "percent_no_persona = round(num_no_persona/total_num_users*100,1)\n",
     "print(\"{}({}%) have not been put into a persona\".format(num_no_persona, percent_no_persona))\n",
     "            "
    ]
   },
   {
    "cell_type": "code",
    "execution_count": 123,
    "metadata": {},
    "outputs": [
     {
      "data": {
       "text/plain": [
        "(0, 50)"
       ]
      },
      "execution_count": 123,
      "metadata": {},
      "output_type": "execute_result"
     },
     {
      "data": {
       "image/png": "[encoded data removed]",
       "text/plain": [
        "<Figure size 432x288 with 1 Axes>"
       ]
      },
      "metadata": {
       "needs_background": "light"
      },
      "output_type": "display_data"
     }
    ],
    "source": [
     "\n"
    ]
   },
   {
    "cell_type": "code",
    "execution_count": 119,
    "metadata": {},
    "outputs": [
     {
      "name": "stdout",
      "output_type": "stream",
      "text": [
       "(5, 82)\n",
       "\n",
       "Persona 0\n",
       "==========\n",
       "1.606687655262626\tit’s more convenient\n",
       "1.4942237309593616\train\n",
       "1.4137072047059374\tit’s faster\n",
       "1.3636241620329737\tnight\n",
       "1.3215357462711668\tit’s more reliable\n",
       "1.2787851954440421\thot/humid\n",
       "1.1772437856019415\tcommuting\n",
       "1.1346846059871556\tit’s cheaper\n",
       "1.090250912532918\ti bike alone\n",
       "1.0335629229639225\ttemperate\n"
      ]
     },
     {
      "data": {
       "image/png": "[encoded data removed]",
       "text/plain": [
        "<Figure size 432x288 with 1 Axes>"
       ]
      },
      "metadata": {
       "needs_background": "light"
      },
      "output_type": "display_data"
     },
     {
      "name": "stdout",
      "output_type": "stream",
      "text": [
       "\n",
       "\n",
       "\n",
       "Persona 1\n",
       "==========\n",
       "1.6060239569003418\tfitness\n",
       "1.2183317227507948\tpleasure rides\n",
       "1.20834016021302\tchores / errands\n",
       "1.2069941110332865\tit’s my hobby/interest\n",
       "0.9505382637745258\tit's not safe for my bike\n",
       "0.780481029364693\tcommuting\n",
       "0.6961169223408172\tto help keep my bike safe\n",
       "0.6943505545317885\ti want to reduce my environmental impact\n",
       "0.6629401277160333\tit’s cheaper\n",
       "0.619214543265208\tit's not safe for me\n"
      ]
     },
     {
      "data": {
       "image/png": "[encoded data removed]",
       "text/plain": [
        "<Figure size 432x288 with 1 Axes>"
       ]
      },
      "metadata": {
       "needs_background": "light"
      },
      "output_type": "display_data"
     },
     {
      "name": "stdout",
      "output_type": "stream",
      "text": [
       "\n",
       "\n",
       "\n",
       "Persona 2\n",
       "==========\n",
       "1.4140523646621628\ttouring\n",
       "1.3570889859428463\tit’s my hobby/interest\n",
       "1.2408851055569816\twork\n",
       "1.0255799360788609\tbecause it's cool!\n",
       "1.007477497714768\tpleasure rides\n",
       "0.9076950697758308\tto help me keep track of my fitness goals\n",
       "0.9025453805239222\tit’s more fun\n",
       "0.8180682018467316\tmountain bike\n",
       "0.7992732953741825\troad bike\n",
       "0.7698011156769456\tsnow/ice\n"
      ]
     },
     {
      "data": {
       "image/png": "[encoded data removed]",
       "text/plain": [
        "<Figure size 432x288 with 1 Axes>"
       ]
      },
      "metadata": {
       "needs_background": "light"
      },
      "output_type": "display_data"
     },
     {
      "name": "stdout",
      "output_type": "stream",
      "text": [
       "\n",
       "\n",
       "\n",
       "Persona 3\n",
       "==========\n",
       "3.050554473763691\tsafest routes)\n",
       "3.050554473763691\tto help me stay safe (nightlight\n",
       "1.030162459773895\tto help keep my bike safe\n",
       "0.9285982834070089\tbecause it's cool!\n",
       "0.8729563565706641\ti want to reduce my environmental impact\n",
       "0.8340698558309574\ti have to carry things with me\n",
       "0.7896107907647544\tto help me navigate\n",
       "0.752653640329814\troad bike\n",
       "0.7435707817088368\ti bike alone\n",
       "0.7040225683859745\thybrid bike\n"
      ]
     },
     {
      "data": {
       "image/png": "[encoded data removed]",
       "text/plain": [
        "<Figure size 432x288 with 1 Axes>"
       ]
      },
      "metadata": {
       "needs_background": "light"
      },
      "output_type": "display_data"
     },
     {
      "name": "stdout",
      "output_type": "stream",
      "text": [
       "\n",
       "\n",
       "\n",
       "Persona 4\n",
       "==========\n",
       "1.614626579286594\tthe weather doesn't suit me\n",
       "1.043605919924171\ttemperate\n",
       "0.9929848912158052\tto help me navigate\n",
       "0.8234443806249837\ti want to be healthy\n",
       "0.7894079018144453\ti bike alone\n",
       "0.7526550871400342\tso i don't have to look at my phone while riding\n",
       "0.573818559124928\ttransportation\n",
       "0.5412147622114287\tcruiser / city bike\n",
       "0.5078269769021597\tcommuting\n",
       "0.4726744494270258\tit's not safe for me\n"
      ]
     },
     {
      "data": {
       "image/png": "[encoded data removed]",
       "text/plain": [
        "<Figure size 432x288 with 1 Axes>"
       ]
      },
      "metadata": {
       "needs_background": "light"
      },
      "output_type": "display_data"
     },
     {
      "name": "stdout",
      "output_type": "stream",
      "text": [
       "\n",
       "\n"
      ]
     }
    ],
    "source": [
     "'''\n",
     "This section extracts the components from the NMF model, allowing us to describe the component in\n",
     "    a more \"human readable\" way\n",
     "'''\n",
     "\n",
     "# Create a DataFrame: components_df\n",
     "components_df = pd.DataFrame(model.components_, columns=vec.get_feature_names())\n",
     "\n",
     "# Print the shape of the DataFrame\n",
     "print(components_df.shape)\n",
     "\n",
     "for x in range(0,components_df.shape[0]):\n",
     "    print(\"\\nPersona \"+str(x))\n",
     "    print(\"==========\")\n",
     "    component = components_df.iloc[x,:]\n",
     "    for y,z in component.nlargest(10).items():\n",
     "        #this output specifically for https://www.wordclouds.com/\n",
     "        #import math\n",
     "        #print(str(math.trunc(z*10000000))+\" \"+str(y.replace(\" \", \"~\")))\n",
     "        print(\"{}\\t{}\".format(z, y))\n",
     "        \n",
     "        \n",
     "    #print(component.nlargest(50))\n",
     "    plt.hist(df_nmf.iloc[:,x], bins=20)\n",
     "    plt.ylim(0,50)\n",
     "    plt.xlim(0,1)\n",
     "    plt.show()\n",
     "    print(\"\\n\")"
    ]
   },
   {
    "cell_type": "code",
    "execution_count": 18,
    "metadata": {},
    "outputs": [
     {
      "data": {
       "text/html": [
        "<div>\n",
        "<style scoped>\n",
        "    .dataframe tbody tr th:only-of-type {\n",
        "        vertical-align: middle;\n",
        "    }\n",
        "\n",
        "    .dataframe tbody tr th {\n",
        "        vertical-align: top;\n",
        "    }\n",
        "\n",
        "    .dataframe thead th {\n",
        "        text-align: right;\n",
        "    }\n",
        "</style>\n",
        "<table border=\"1\" class=\"dataframe\">\n",
        "  <thead>\n",
        "    <tr style=\"text-align: right;\">\n",
        "      <th></th>\n",
        "      <th>all road</th>\n",
        "      <th>because i have smarthalo 1 and love it</th>\n",
        "      <th>because it's cool!</th>\n",
        "      <th>bike share bike</th>\n",
        "      <th>brompton</th>\n",
        "      <th>brompton folding</th>\n",
        "      <th>cargo bike</th>\n",
        "      <th>chores / errands</th>\n",
        "      <th>commuting</th>\n",
        "      <th>cruiser / city bike</th>\n",
        "      <th>...</th>\n",
        "      <th>to support a new company that came up with a revolutionary design</th>\n",
        "      <th>touring</th>\n",
        "      <th>touring bike</th>\n",
        "      <th>transportation</th>\n",
        "      <th>using the latest gadget is also hobby</th>\n",
        "      <th>why not?</th>\n",
        "      <th>with a riding pack</th>\n",
        "      <th>with family and friends</th>\n",
        "      <th>with young children</th>\n",
        "      <th>work</th>\n",
        "    </tr>\n",
        "  </thead>\n",
        "  <tbody>\n",
        "    <tr>\n",
        "      <td>0</td>\n",
        "      <td>0.000000</td>\n",
        "      <td>0.016718</td>\n",
        "      <td>0.231889</td>\n",
        "      <td>0.192698</td>\n",
        "      <td>0.016573</td>\n",
        "      <td>0.011061</td>\n",
        "      <td>0.248238</td>\n",
        "      <td>0.629304</td>\n",
        "      <td>1.177147</td>\n",
        "      <td>0.315755</td>\n",
        "      <td>...</td>\n",
        "      <td>0.027470</td>\n",
        "      <td>0.054414</td>\n",
        "      <td>0.025923</td>\n",
        "      <td>0.956899</td>\n",
        "      <td>0.000000</td>\n",
        "      <td>0.010641</td>\n",
        "      <td>0.000000</td>\n",
        "      <td>0.000000</td>\n",
        "      <td>0.266654</td>\n",
        "      <td>0.597996</td>\n",
        "    </tr>\n",
        "    <tr>\n",
        "      <td>1</td>\n",
        "      <td>0.000000</td>\n",
        "      <td>0.000000</td>\n",
        "      <td>0.000000</td>\n",
        "      <td>0.010574</td>\n",
        "      <td>0.000000</td>\n",
        "      <td>0.015174</td>\n",
        "      <td>0.000000</td>\n",
        "      <td>1.208459</td>\n",
        "      <td>0.780557</td>\n",
        "      <td>0.000000</td>\n",
        "      <td>...</td>\n",
        "      <td>0.000000</td>\n",
        "      <td>0.000000</td>\n",
        "      <td>0.005043</td>\n",
        "      <td>0.383152</td>\n",
        "      <td>0.000000</td>\n",
        "      <td>0.016264</td>\n",
        "      <td>0.240507</td>\n",
        "      <td>0.568690</td>\n",
        "      <td>0.000000</td>\n",
        "      <td>0.000000</td>\n",
        "    </tr>\n",
        "    <tr>\n",
        "      <td>2</td>\n",
        "      <td>0.057989</td>\n",
        "      <td>0.000000</td>\n",
        "      <td>1.025547</td>\n",
        "      <td>0.000000</td>\n",
        "      <td>0.000000</td>\n",
        "      <td>0.000000</td>\n",
        "      <td>0.144049</td>\n",
        "      <td>0.000000</td>\n",
        "      <td>0.000000</td>\n",
        "      <td>0.000000</td>\n",
        "      <td>...</td>\n",
        "      <td>0.007281</td>\n",
        "      <td>1.414010</td>\n",
        "      <td>0.006226</td>\n",
        "      <td>0.303758</td>\n",
        "      <td>0.081578</td>\n",
        "      <td>0.000000</td>\n",
        "      <td>0.101804</td>\n",
        "      <td>0.443871</td>\n",
        "      <td>0.012124</td>\n",
        "      <td>1.240853</td>\n",
        "    </tr>\n",
        "    <tr>\n",
        "      <td>3</td>\n",
        "      <td>0.000000</td>\n",
        "      <td>0.034064</td>\n",
        "      <td>0.927957</td>\n",
        "      <td>0.000000</td>\n",
        "      <td>0.023676</td>\n",
        "      <td>0.014016</td>\n",
        "      <td>0.000000</td>\n",
        "      <td>0.000000</td>\n",
        "      <td>0.000000</td>\n",
        "      <td>0.000000</td>\n",
        "      <td>...</td>\n",
        "      <td>0.000000</td>\n",
        "      <td>0.430729</td>\n",
        "      <td>0.000000</td>\n",
        "      <td>0.495302</td>\n",
        "      <td>0.000000</td>\n",
        "      <td>0.014729</td>\n",
        "      <td>0.013199</td>\n",
        "      <td>0.000000</td>\n",
        "      <td>0.000000</td>\n",
        "      <td>0.207735</td>\n",
        "    </tr>\n",
        "    <tr>\n",
        "      <td>4</td>\n",
        "      <td>0.000000</td>\n",
        "      <td>0.000000</td>\n",
        "      <td>0.400555</td>\n",
        "      <td>0.056830</td>\n",
        "      <td>0.000000</td>\n",
        "      <td>0.000000</td>\n",
        "      <td>0.000000</td>\n",
        "      <td>0.000000</td>\n",
        "      <td>0.507668</td>\n",
        "      <td>0.541046</td>\n",
        "      <td>...</td>\n",
        "      <td>0.000000</td>\n",
        "      <td>0.105238</td>\n",
        "      <td>0.000000</td>\n",
        "      <td>0.573641</td>\n",
        "      <td>0.000000</td>\n",
        "      <td>0.000000</td>\n",
        "      <td>0.000000</td>\n",
        "      <td>0.289546</td>\n",
        "      <td>0.175477</td>\n",
        "      <td>0.000000</td>\n",
        "    </tr>\n",
        "  </tbody>\n",
        "</table>\n",
        "<p>5 rows × 82 columns</p>\n",
        "</div>"
       ],
       "text/plain": [
        "   all road  because i have smarthalo 1 and love it   because it's cool!  \\\n",
        "0  0.000000                                 0.016718            0.231889   \n",
        "1  0.000000                                 0.000000            0.000000   \n",
        "2  0.057989                                 0.000000            1.025547   \n",
        "3  0.000000                                 0.034064            0.927957   \n",
        "4  0.000000                                 0.000000            0.400555   \n",
        "\n",
        "   bike share bike  brompton  brompton folding   cargo bike  chores / errands  \\\n",
        "0         0.192698  0.016573           0.011061    0.248238          0.629304   \n",
        "1         0.010574  0.000000           0.015174    0.000000          1.208459   \n",
        "2         0.000000  0.000000           0.000000    0.144049          0.000000   \n",
        "3         0.000000  0.023676           0.014016    0.000000          0.000000   \n",
        "4         0.056830  0.000000           0.000000    0.000000          0.000000   \n",
        "\n",
        "   commuting  cruiser / city bike  ...  \\\n",
        "0   1.177147             0.315755  ...   \n",
        "1   0.780557             0.000000  ...   \n",
        "2   0.000000             0.000000  ...   \n",
        "3   0.000000             0.000000  ...   \n",
        "4   0.507668             0.541046  ...   \n",
        "\n",
        "   to support a new company that came up with a revolutionary design  \\\n",
        "0                                           0.027470                   \n",
        "1                                           0.000000                   \n",
        "2                                           0.007281                   \n",
        "3                                           0.000000                   \n",
        "4                                           0.000000                   \n",
        "\n",
        "    touring  touring bike  transportation  \\\n",
        "0  0.054414      0.025923        0.956899   \n",
        "1  0.000000      0.005043        0.383152   \n",
        "2  1.414010      0.006226        0.303758   \n",
        "3  0.430729      0.000000        0.495302   \n",
        "4  0.105238      0.000000        0.573641   \n",
        "\n",
        "   using the latest gadget is also hobby  why not?  with a riding pack  \\\n",
        "0                               0.000000  0.010641            0.000000   \n",
        "1                               0.000000  0.016264            0.240507   \n",
        "2                               0.081578  0.000000            0.101804   \n",
        "3                               0.000000  0.014729            0.013199   \n",
        "4                               0.000000  0.000000            0.000000   \n",
        "\n",
        "   with family and friends  with young children      work  \n",
        "0                 0.000000             0.266654  0.597996  \n",
        "1                 0.568690             0.000000  0.000000  \n",
        "2                 0.443871             0.012124  1.240853  \n",
        "3                 0.000000             0.000000  0.207735  \n",
        "4                 0.289546             0.175477  0.000000  \n",
        "\n",
        "[5 rows x 82 columns]"
       ]
      },
      "execution_count": 18,
      "metadata": {},
      "output_type": "execute_result"
     }
    ],
    "source": [
     "components_df.head()"
    ]
   },
   {
    "cell_type": "code",
    "execution_count": 19,
    "metadata": {},
    "outputs": [
     {
      "name": "stdout",
      "output_type": "stream",
      "text": [
       "Haywood          1.000000\n",
       "Bromund          0.992531\n",
       "White            0.986067\n",
       "Emmons           0.970302\n",
       "Pearson          0.960032\n",
       "Burgess          0.958179\n",
       "Spinelli         0.951245\n",
       "Solow            0.948663\n",
       "DuBois           0.948416\n",
       "Rathjens         0.948193\n",
       "Schiske          0.945138\n",
       "Lortie           0.939672\n",
       "Lopez            0.901985\n",
       "Nelson           0.899421\n",
       "Stoll            0.898499\n",
       "Bhattacharyya    0.882984\n",
       "B                0.869170\n",
       "Franco           0.864593\n",
       "W                0.863611\n",
       "Ellens           0.862532\n",
       "Piolain          0.862047\n",
       "Brown            0.858875\n",
       "Thiemann         0.842381\n",
       "Moens            0.842303\n",
       "Rosenthal        0.834704\n",
       "Mrstik           0.834425\n",
       "Reinecke         0.830849\n",
       "Hurkmans         0.830277\n",
       "Peich            0.829778\n",
       "Sullivan         0.826468\n",
       "Ranger           0.826085\n",
       "Cunningham       0.826038\n",
       "McCord           0.825698\n",
       "Beal             0.823473\n",
       "de Wild          0.820962\n",
       "Hay              0.812920\n",
       "Bauer            0.812449\n",
       "Chalasani        0.809792\n",
       "provot           0.806725\n",
       "Karlsson         0.805451\n",
       "dtype: float64\n"
      ]
     }
    ],
    "source": [
     "from sklearn.preprocessing import normalize\n",
     "\n",
     "# Normalize the NMF features: norm_features\n",
     "norm_features = normalize(nmf_features)\n",
     "\n",
     "# Create a DataFrame: df\n",
     "dfpersona = pd.DataFrame(norm_features, index=names)\n",
     "\n",
     "# Select the row corresponding to 'Cristiano Ronaldo': article\n",
     "persona = dfpersona.loc['Haywood']\n",
     "\n",
     "# Compute the dot products: similarities\n",
     "similarities = dfpersona.dot(persona)\n",
     "\n",
     "# Display those with the largest cosine similarity\n",
     "print(similarities.nlargest(40))"
    ]
   },
   {
    "cell_type": "code",
    "execution_count": 20,
    "metadata": {},
    "outputs": [
     {
      "ename": "ValueError",
      "evalue": "matrices are not aligned",
      "output_type": "error",
      "traceback": [
       "\u001b[0;31m---------------------------------------------------------------------------\u001b[0m",
       "\u001b[0;31mValueError\u001b[0m                                Traceback (most recent call last)",
       "\u001b[0;32m<ipython-input-20-8453609ac041>\u001b[0m in \u001b[0;36m<module>\u001b[0;34m\u001b[0m\n\u001b[1;32m      4\u001b[0m \u001b[0mpersona\u001b[0m \u001b[0;34m=\u001b[0m \u001b[0mdfx\u001b[0m\u001b[0;34m.\u001b[0m\u001b[0mloc\u001b[0m\u001b[0;34m[\u001b[0m\u001b[0;36m0\u001b[0m\u001b[0;34m]\u001b[0m\u001b[0;34m\u001b[0m\u001b[0;34m\u001b[0m\u001b[0m\n\u001b[1;32m      5\u001b[0m \u001b[0;34m\u001b[0m\u001b[0m\n\u001b[0;32m----> 6\u001b[0;31m \u001b[0msimilarities\u001b[0m \u001b[0;34m=\u001b[0m \u001b[0mdfpersona\u001b[0m\u001b[0;34m.\u001b[0m\u001b[0mdot\u001b[0m\u001b[0;34m(\u001b[0m\u001b[0mpersona\u001b[0m\u001b[0;34m)\u001b[0m\u001b[0;34m\u001b[0m\u001b[0;34m\u001b[0m\u001b[0m\n\u001b[0m\u001b[1;32m      7\u001b[0m \u001b[0mprint\u001b[0m\u001b[0;34m(\u001b[0m\u001b[0msimilarities\u001b[0m\u001b[0;34m.\u001b[0m\u001b[0mnlargest\u001b[0m\u001b[0;34m(\u001b[0m\u001b[0;36m40\u001b[0m\u001b[0;34m)\u001b[0m\u001b[0;34m)\u001b[0m\u001b[0;34m\u001b[0m\u001b[0;34m\u001b[0m\u001b[0m\n",
       "\u001b[0;32m~/opt/anaconda3/lib/python3.7/site-packages/pandas/core/frame.py\u001b[0m in \u001b[0;36mdot\u001b[0;34m(self, other)\u001b[0m\n\u001b[1;32m   1061\u001b[0m             \u001b[0mcommon\u001b[0m \u001b[0;34m=\u001b[0m \u001b[0mself\u001b[0m\u001b[0;34m.\u001b[0m\u001b[0mcolumns\u001b[0m\u001b[0;34m.\u001b[0m\u001b[0munion\u001b[0m\u001b[0;34m(\u001b[0m\u001b[0mother\u001b[0m\u001b[0;34m.\u001b[0m\u001b[0mindex\u001b[0m\u001b[0;34m)\u001b[0m\u001b[0;34m\u001b[0m\u001b[0;34m\u001b[0m\u001b[0m\n\u001b[1;32m   1062\u001b[0m             \u001b[0;32mif\u001b[0m \u001b[0mlen\u001b[0m\u001b[0;34m(\u001b[0m\u001b[0mcommon\u001b[0m\u001b[0;34m)\u001b[0m \u001b[0;34m>\u001b[0m \u001b[0mlen\u001b[0m\u001b[0;34m(\u001b[0m\u001b[0mself\u001b[0m\u001b[0;34m.\u001b[0m\u001b[0mcolumns\u001b[0m\u001b[0;34m)\u001b[0m \u001b[0;32mor\u001b[0m \u001b[0mlen\u001b[0m\u001b[0;34m(\u001b[0m\u001b[0mcommon\u001b[0m\u001b[0;34m)\u001b[0m \u001b[0;34m>\u001b[0m \u001b[0mlen\u001b[0m\u001b[0;34m(\u001b[0m\u001b[0mother\u001b[0m\u001b[0;34m.\u001b[0m\u001b[0mindex\u001b[0m\u001b[0;34m)\u001b[0m\u001b[0;34m:\u001b[0m\u001b[0;34m\u001b[0m\u001b[0;34m\u001b[0m\u001b[0m\n\u001b[0;32m-> 1063\u001b[0;31m                 \u001b[0;32mraise\u001b[0m \u001b[0mValueError\u001b[0m\u001b[0;34m(\u001b[0m\u001b[0;34m\"matrices are not aligned\"\u001b[0m\u001b[0;34m)\u001b[0m\u001b[0;34m\u001b[0m\u001b[0;34m\u001b[0m\u001b[0m\n\u001b[0m\u001b[1;32m   1064\u001b[0m \u001b[0;34m\u001b[0m\u001b[0m\n\u001b[1;32m   1065\u001b[0m             \u001b[0mleft\u001b[0m \u001b[0;34m=\u001b[0m \u001b[0mself\u001b[0m\u001b[0;34m.\u001b[0m\u001b[0mreindex\u001b[0m\u001b[0;34m(\u001b[0m\u001b[0mcolumns\u001b[0m\u001b[0;34m=\u001b[0m\u001b[0mcommon\u001b[0m\u001b[0;34m,\u001b[0m \u001b[0mcopy\u001b[0m\u001b[0;34m=\u001b[0m\u001b[0;32mFalse\u001b[0m\u001b[0;34m)\u001b[0m\u001b[0;34m\u001b[0m\u001b[0;34m\u001b[0m\u001b[0m\n",
       "\u001b[0;31mValueError\u001b[0m: matrices are not aligned"
      ]
     }
    ],
    "source": [
     "norm_personas = normalize(components_df)\n",
     "\n",
     "dfx = pd.DataFrame(norm_personas)\n",
     "persona = dfx.loc[0]\n",
     "\n",
     "similarities = dfpersona.dot(persona)\n",
     "print(similarities.nlargest(40))"
    ]
   },
   {
    "cell_type": "code",
    "execution_count": null,
    "metadata": {},
    "outputs": [],
    "source": []
   }
  ],
  "metadata": {
   "kernelspec": {
    "display_name": "Python 3",
    "language": "python",
    "name": "python3"
   },
   "language_info": {
    "codemirror_mode": {
     "name": "ipython",
     "version": 3
    },
    "file_extension": ".py",
    "mimetype": "text/x-python",
    "name": "python",
    "nbconvert_exporter": "python",
    "pygments_lexer": "ipython3",
    "version": "3.7.4"
   }
  },
  "nbformat": 4,
  "nbformat_minor": 4
 }
 