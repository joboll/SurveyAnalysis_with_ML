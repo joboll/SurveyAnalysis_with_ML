{
 "cells": [
  {
   "cell_type": "code",
   "execution_count": 74,
   "metadata": {},
   "outputs": [],
   "source": [
    "import pandas as pd\n",
    "import numpy as np\n",
    "from pandas.api.types import CategoricalDtype\n",
    "import matplotlib.pyplot as plt\n",
    "import seaborn as sns\n",
    "from statsmodels.graphics.mosaicplot import mosaic"
   ]
  },
  {
   "cell_type": "markdown",
   "metadata": {},
   "source": [
    "set up categories for our data\n",
    "https://pandas.pydata.org/pandas-docs/stable/user_guide/categorical.html\n",
    "ageCategory = CategoricalDtype"
   ]
  },
  {
   "cell_type": "markdown",
   "metadata": {},
   "source": [
    "## Importing, cleaning and wrangling"
   ]
  },
  {
   "cell_type": "code",
   "execution_count": 75,
   "metadata": {},
   "outputs": [],
   "source": [
    "# import data with a context manager\n",
    "with open(\"data.csv\") as fp:\n",
    "    df = pd.read_csv(fp) \n",
    "\n",
    "    names = df['last_name'].tolist()\n",
    "    \n",
    "    # Drop unnecessary columns from df\n",
    "    dropcol = ['first_name', 'last_name', 'google_email', 'smarthalo_email', 'accessory_channels', 'submitted_date', 'token']\n",
    "    df.drop(columns= dropcol, inplace= True)\n",
    "    \n",
    "    # convert to categorical data in the df\n",
    "    catcol = [\"age\", \"gender\", \"platform\", \"income\", \"experience\", \"rides_per_week\", \"num_bikes_owned\", \"bike_cost\", \"location\", \"environment\", 'accessory_factor', 'smarthalo_versions','crowdfunded_smarthalo' ]\n",
    "    for col in catcol:\n",
    "        df[col] = df[col].astype('category')\n",
    "    \n",
    "    #only take the data we want, converting to categories data type\n",
    "#    col_slice_list = [\"age\", \"gender\", \"platform\", \"income\", \"experience\", \"rides_per_week\" ]#,\"bike_type\",\"num_bikes_owned\",\"bike_cost\",\"location\",\"environment\",\"companions\",\"conditions\",\"activities\"]\n",
    "#    subsetData = rawDataFrame.loc[:, col_slice_list ].astype('category')"
   ]
  },
  {
   "cell_type": "code",
   "execution_count": 76,
   "metadata": {
    "collapsed": true,
    "jupyter": {
     "outputs_hidden": true
    }
   },
   "outputs": [
    {
     "name": "stdout",
     "output_type": "stream",
     "text": [
      "<class 'pandas.core.frame.DataFrame'>\n",
      "RangeIndex: 145 entries, 0 to 144\n",
      "Data columns (total 20 columns):\n",
      "age                      145 non-null category\n",
      "gender                   145 non-null category\n",
      "platform                 145 non-null category\n",
      "income                   145 non-null category\n",
      "experience               145 non-null category\n",
      "rides_per_week           145 non-null category\n",
      "bike_type                145 non-null object\n",
      "num_bikes_owned          145 non-null category\n",
      "bike_cost                145 non-null category\n",
      "location                 145 non-null category\n",
      "environment              145 non-null category\n",
      "companions               145 non-null object\n",
      "conditions               145 non-null object\n",
      "activities               145 non-null object\n",
      "reasons_to_bike          145 non-null object\n",
      "reasons_to_not_bike      145 non-null object\n",
      "reason_for_smarthalo     145 non-null object\n",
      "smarthalo_versions       145 non-null category\n",
      "crowdfunded_smarthalo    145 non-null category\n",
      "accessory_factor         145 non-null category\n",
      "dtypes: category(13), object(7)\n",
      "memory usage: 13.0+ KB\n"
     ]
    }
   ],
   "source": [
    "df.info()"
   ]
  },
  {
   "cell_type": "code",
   "execution_count": 77,
   "metadata": {
    "collapsed": true,
    "jupyter": {
     "outputs_hidden": true
    }
   },
   "outputs": [
    {
     "name": "stdout",
     "output_type": "stream",
     "text": [
      "35-44 years    49\n",
      "55+ years      32\n",
      "45-54 years    31\n",
      "25-34 years    30\n",
      "0-25 years      3\n",
      "Name: age, dtype: int64 \n",
      "\n",
      "Male                 126\n",
      "Female                14\n",
      "Non-binary             4\n",
      "Prefer not to say      1\n",
      "Name: gender, dtype: int64 \n",
      "\n",
      "iOS        85\n",
      "Android    60\n",
      "Name: platform, dtype: int64 \n",
      "\n",
      "80,000+ / year            51\n",
      "40,000 - 79,000 / year    45\n",
      "Prefer not to say         26\n",
      "0 - 39,999 / year         23\n",
      "Name: income, dtype: int64 \n",
      "\n",
      "8     50\n",
      "7     33\n",
      "9     29\n",
      "10    17\n",
      "6     11\n",
      "5      4\n",
      "4      1\n",
      "Name: experience, dtype: int64 \n",
      "\n",
      "3 or more times a week    105\n",
      "1-2 times a week           28\n",
      "Less than once a week      12\n",
      "Name: rides_per_week, dtype: int64 \n",
      "\n",
      "2     56\n",
      "1     52\n",
      "3+    37\n",
      "Name: num_bikes_owned, dtype: int64 \n",
      "\n",
      "500 - 1000       45\n",
      "1000 - 2000      43\n",
      "2000 - 4000      29\n",
      "100 - 500        14\n",
      "4000+            13\n",
      "Less than 100     1\n",
      "Name: bike_cost, dtype: int64 \n",
      "\n",
      "United States     46\n",
      "Canada            28\n",
      "Netherlands       15\n",
      "France            13\n",
      "Germany           13\n",
      "United Kingdom     6\n",
      "Japan              3\n",
      "Australia          3\n",
      "Italy              2\n",
      "India              2\n",
      "Spain              2\n",
      "Switzerland        2\n",
      "Luxembourg         1\n",
      "Nauru              1\n",
      "New Zealand        1\n",
      "Norway             1\n",
      "Czech Republic     1\n",
      "Costa Rica         1\n",
      "Brazil             1\n",
      "Belgium            1\n",
      "Austria            1\n",
      "Israel             1\n",
      "Name: location, dtype: int64 \n",
      "\n",
      "CITY - urban, dense, etc.               88\n",
      "TOWN - neighbourhood, suburban, etc.    35\n",
      "RURAL - village, country, etc.          15\n",
      "NATURE - mountains, forests, etc.        7\n",
      "Name: environment, dtype: int64 \n",
      "\n",
      "It meets all my needs                              87\n",
      "Price                                              19\n",
      "Online reviews                                     19\n",
      "The brand/company                                  10\n",
      "Influencer recommendations                          4\n",
      "Friend/family recommendations                       4\n",
      "that i want it                                      1\n",
      "When I find it useful and cool at the same time     1\n",
      "Name: accessory_factor, dtype: int64 \n",
      "\n",
      "SmartHalo 1    90\n",
      "Both           52\n",
      "SmartHalo 2     3\n",
      "Name: smarthalo_versions, dtype: int64 \n",
      "\n",
      "I backed both                     52\n",
      "I backed SmartHalo 1              46\n",
      "I backed SmartHalo 2              26\n",
      "I got my SmartHalo another way    21\n",
      "Name: crowdfunded_smarthalo, dtype: int64 \n",
      "\n"
     ]
    }
   ],
   "source": [
    "for i in catcol:\n",
    "    print(df[i].value_counts(dropna=False), '\\n')"
   ]
  },
  {
   "cell_type": "code",
   "execution_count": 78,
   "metadata": {
    "collapsed": true,
    "jupyter": {
     "outputs_hidden": true
    }
   },
   "outputs": [],
   "source": [
    "#for i in catcol:\n",
    "#sns.barplot(data = df['income'])\n",
    "#plt.hist(df['income'], data= df['income'].value_counts())\n",
    "#plt.show()"
   ]
  },
  {
   "cell_type": "code",
   "execution_count": 79,
   "metadata": {},
   "outputs": [],
   "source": [
    "#subsetData.iloc[:,0].unique()\n",
    "#subsetData.columns.tolist()"
   ]
  },
  {
   "cell_type": "markdown",
   "metadata": {},
   "source": [
    "## EDA"
   ]
  },
  {
   "cell_type": "code",
   "execution_count": 80,
   "metadata": {
    "collapsed": true,
    "jupyter": {
     "outputs_hidden": true,
     "source_hidden": true
    }
   },
   "outputs": [
    {
     "data": {
      "text/plain": [
       "<matplotlib.axes._subplots.AxesSubplot at 0x1a2c527410>"
      ]
     },
     "execution_count": 80,
     "metadata": {},
     "output_type": "execute_result"
    },
    {
     "data": {
      "image/png": "[encoded data removed]",
      "text/plain": [
       "<Figure size 576x288 with 1 Axes>"
      ]
     },
     "metadata": {
      "needs_background": "light"
     },
     "output_type": "display_data"
    }
   ],
   "source": [
    "income = df['income'].value_counts(dropna=False).tolist()\n",
    "income_index = df['income'].unique().tolist()\n",
    "df_income = pd.DataFrame(income, income_index,)\n",
    "df_income.sort_index(inplace=True)\n",
    "plt.figure(figsize=[8,4])\n",
    "sns.barplot(y= df_income[0], x= df_income.index)"
   ]
  },
  {
   "cell_type": "markdown",
   "metadata": {},
   "source": [
    "### Descriptive data matrix"
   ]
  },
  {
   "cell_type": "code",
   "execution_count": 82,
   "metadata": {
    "collapsed": true,
    "jupyter": {
     "outputs_hidden": true
    }
   },
   "outputs": [
    {
     "name": "stdout",
     "output_type": "stream",
     "text": [
      "df.groupby('age').count().iloc[:,0].plot(kind=\"bar\", subplots=True, ax=axes[(0, 0)])\n",
      "df.groupby('gender').count().iloc[:,0].plot(kind=\"bar\", subplots=True, ax=axes[(0, 1)])\n",
      "df.groupby('platform').count().iloc[:,0].plot(kind=\"bar\", subplots=True, ax=axes[(0, 2)])\n",
      "df.groupby('income').count().iloc[:,0].plot(kind=\"bar\", subplots=True, ax=axes[(0, 3)])\n",
      "df.groupby('experience').count().iloc[:,0].plot(kind=\"bar\", subplots=True, ax=axes[(0, 4)])\n",
      "df.groupby('rides_per_week').count().iloc[:,0].plot(kind=\"bar\", subplots=True, ax=axes[(1, 0)])\n",
      "df.groupby('num_bikes_owned').count().iloc[:,0].plot(kind=\"bar\", subplots=True, ax=axes[(1, 1)])\n",
      "df.groupby('bike_cost').count().iloc[:,0].plot(kind=\"bar\", subplots=True, ax=axes[(1, 2)])\n",
      "df.groupby('location').count().iloc[:,0].plot(kind=\"bar\", subplots=True, ax=axes[(1, 3)])\n",
      "df.groupby('environment').count().iloc[:,0].plot(kind=\"bar\", subplots=True, ax=axes[(1, 4)])\n",
      "df.groupby('accessory_factor').count().iloc[:,0].plot(kind=\"bar\", subplots=True, ax=axes[(2, 0)])\n",
      "df.groupby('smarthalo_versions').count().iloc[:,0].plot(kind=\"bar\", subplots=True, ax=axes[(2, 1)])\n",
      "df.groupby('crowdfunded_smarthalo').count().iloc[:,0].plot(kind=\"bar\", subplots=True, ax=axes[(2, 2)])\n"
     ]
    }
   ],
   "source": [
    "# Output a serie of statements to plot a matrix descriptive histogram\n",
    "# Copy/Paste the output in the next cell\n",
    "\n",
    "mx = list(range(5))*3\n",
    "my = list(range(3))*5\n",
    "my.sort()\n",
    "coord = list(zip(my, mx))\n",
    "       \n",
    "for cat, coord in zip(catcol, coord):\n",
    "    print('df.groupby({0}{1}{2}).count().iloc[:,0].plot(kind=\"bar\", subplots=True, ax=axes[{3}])'.format(\"'\",cat, \"'\",coord))"
   ]
  },
  {
   "cell_type": "code",
   "execution_count": 83,
   "metadata": {},
   "outputs": [
    {
     "data": {
      "image/png": "[encoded data removed]",
      "text/plain": [
       "<Figure size 1080x1080 with 15 Axes>"
      ]
     },
     "metadata": {
      "needs_background": "light"
     },
     "output_type": "display_data"
    }
   ],
   "source": [
    "# Generate a matrix descriptive histogram by copy/pasting output from previous cell\n",
    "# Add .reindex() method by hand where x axis order in not what it should be\n",
    "\n",
    "fig, axes = plt.subplots(nrows=3, ncols=5, figsize=(15,15), squeeze=False)\n",
    "df.groupby('age').count().iloc[:,0].plot(kind=\"bar\", subplots=True, ax=axes[(0, 0)])\n",
    "df.groupby('gender').count().iloc[:,0].plot(kind=\"bar\", subplots=True, ax=axes[(0, 1)])\n",
    "df.groupby('platform').count().iloc[:,0].plot(kind=\"bar\", subplots=True, ax=axes[(0, 2)])\n",
    "df.groupby('income').count().iloc[:,0].plot(kind=\"bar\", subplots=True, ax=axes[(0, 3)])\n",
    "df.groupby('experience').count().iloc[:,0].plot(kind=\"bar\", subplots=True, ax=axes[(0, 4)])\n",
    "rpw = ['Less than once a week', '1-2 times a week', '3 or more times a week']\n",
    "df.groupby('rides_per_week').count().iloc[:,0].reindex(rpw).plot(kind=\"bar\", subplots=True, ax=axes[(1, 0)])\n",
    "df.groupby('num_bikes_owned').count().iloc[:,0].plot(kind=\"bar\", subplots=True, ax=axes[(1, 1)])\n",
    "bc = ['Less than 100', '100 - 500', '500 - 1000','1000 - 2000', '2000 - 4000', '4000+']\n",
    "df.groupby('bike_cost').count().iloc[:,0].reindex(bc).plot(kind=\"bar\", subplots=True, ax=axes[(1, 2)])\n",
    "df.groupby('location').count().iloc[:,0].plot(kind=\"bar\", subplots=True, ax=axes[(1, 3)])\n",
    "env = ['NATURE - mountains, forests, etc.', 'RURAL - village, country, etc.', 'TOWN - neighbourhood, suburban, etc.', 'CITY - urban, dense, etc.']\n",
    "df.groupby('environment').count().iloc[:,0].reindex(env).plot(kind=\"bar\", subplots=True, ax=axes[(1, 4)])\n",
    "df.groupby('accessory_factor').count().iloc[:,0].plot(kind=\"bar\", subplots=True, ax=axes[(2, 0)])\n",
    "df.groupby('smarthalo_versions').count().iloc[:,0].plot(kind=\"bar\", subplots=True, ax=axes[(2, 1)])\n",
    "df.groupby('crowdfunded_smarthalo').count().iloc[:,0].plot(kind=\"bar\", subplots=True, ax=axes[(2, 2)])\n",
    "plt.tight_layout(pad=0.2, w_pad=0.5, h_pad=0.5)"
   ]
  },
  {
   "cell_type": "code",
   "execution_count": 85,
   "metadata": {},
   "outputs": [
    {
     "data": {
      "text/plain": [
       "<matplotlib.axes._subplots.AxesSubplot at 0x1a2c828fd0>"
      ]
     },
     "execution_count": 85,
     "metadata": {},
     "output_type": "execute_result"
    },
    {
     "data": {
      "image/png": "[encoded data removed]",
      "text/plain": [
       "<Figure size 432x288 with 1 Axes>"
      ]
     },
     "metadata": {
      "needs_background": "light"
     },
     "output_type": "display_data"
    }
   ],
   "source": [
    "bc_count = df.groupby('bike_cost').count().iloc[:,0].reindex(bc)\n",
    "sns.stripplot()"
   ]
  },
  {
   "cell_type": "markdown",
   "metadata": {},
   "source": [
    "### Exploring relationships between categorical features (columns)"
   ]
  },
  {
   "cell_type": "markdown",
   "metadata": {},
   "source": [
    "#### Hypothesis\n",
    "People with more experience own more bikes"
   ]
  },
  {
   "cell_type": "code",
   "execution_count": 86,
   "metadata": {},
   "outputs": [
    {
     "data": {
      "text/html": [
       "<style  type=\"text/css\" >\n",
       "    #T_21d8d1c8_0246_11ea_916b_d0817acf4bc6row0_col0 {\n",
       "            background-color:  #e5ffe5;\n",
       "            color:  #000000;\n",
       "        }    #T_21d8d1c8_0246_11ea_916b_d0817acf4bc6row0_col1 {\n",
       "            background-color:  #e5ffe5;\n",
       "            color:  #000000;\n",
       "        }    #T_21d8d1c8_0246_11ea_916b_d0817acf4bc6row0_col2 {\n",
       "            background-color:  #e5ffe5;\n",
       "            color:  #000000;\n",
       "        }    #T_21d8d1c8_0246_11ea_916b_d0817acf4bc6row1_col0 {\n",
       "            background-color:  #bde9bd;\n",
       "            color:  #000000;\n",
       "        }    #T_21d8d1c8_0246_11ea_916b_d0817acf4bc6row1_col1 {\n",
       "            background-color:  #e5ffe5;\n",
       "            color:  #000000;\n",
       "        }    #T_21d8d1c8_0246_11ea_916b_d0817acf4bc6row1_col2 {\n",
       "            background-color:  #e5ffe5;\n",
       "            color:  #000000;\n",
       "        }    #T_21d8d1c8_0246_11ea_916b_d0817acf4bc6row2_col0 {\n",
       "            background-color:  #a2daa2;\n",
       "            color:  #000000;\n",
       "        }    #T_21d8d1c8_0246_11ea_916b_d0817acf4bc6row2_col1 {\n",
       "            background-color:  #c0eac0;\n",
       "            color:  #000000;\n",
       "        }    #T_21d8d1c8_0246_11ea_916b_d0817acf4bc6row2_col2 {\n",
       "            background-color:  #c5edc5;\n",
       "            color:  #000000;\n",
       "        }    #T_21d8d1c8_0246_11ea_916b_d0817acf4bc6row3_col0 {\n",
       "            background-color:  #44a544;\n",
       "            color:  #000000;\n",
       "        }    #T_21d8d1c8_0246_11ea_916b_d0817acf4bc6row3_col1 {\n",
       "            background-color:  #329c32;\n",
       "            color:  #000000;\n",
       "        }    #T_21d8d1c8_0246_11ea_916b_d0817acf4bc6row3_col2 {\n",
       "            background-color:  #83c983;\n",
       "            color:  #000000;\n",
       "        }    #T_21d8d1c8_0246_11ea_916b_d0817acf4bc6row4_col0 {\n",
       "            background-color:  #008000;\n",
       "            color:  #f1f1f1;\n",
       "        }    #T_21d8d1c8_0246_11ea_916b_d0817acf4bc6row4_col1 {\n",
       "            background-color:  #008000;\n",
       "            color:  #f1f1f1;\n",
       "        }    #T_21d8d1c8_0246_11ea_916b_d0817acf4bc6row4_col2 {\n",
       "            background-color:  #008000;\n",
       "            color:  #f1f1f1;\n",
       "        }    #T_21d8d1c8_0246_11ea_916b_d0817acf4bc6row5_col0 {\n",
       "            background-color:  #87cb87;\n",
       "            color:  #000000;\n",
       "        }    #T_21d8d1c8_0246_11ea_916b_d0817acf4bc6row5_col1 {\n",
       "            background-color:  #4daa4d;\n",
       "            color:  #000000;\n",
       "        }    #T_21d8d1c8_0246_11ea_916b_d0817acf4bc6row5_col2 {\n",
       "            background-color:  #52ad52;\n",
       "            color:  #000000;\n",
       "        }    #T_21d8d1c8_0246_11ea_916b_d0817acf4bc6row6_col0 {\n",
       "            background-color:  #d8f8d8;\n",
       "            color:  #000000;\n",
       "        }    #T_21d8d1c8_0246_11ea_916b_d0817acf4bc6row6_col1 {\n",
       "            background-color:  #72bf72;\n",
       "            color:  #000000;\n",
       "        }    #T_21d8d1c8_0246_11ea_916b_d0817acf4bc6row6_col2 {\n",
       "            background-color:  #83c983;\n",
       "            color:  #000000;\n",
       "        }</style><table id=\"T_21d8d1c8_0246_11ea_916b_d0817acf4bc6\" ><thead>    <tr>        <th class=\"index_name level0\" >num_bikes_owned</th>        <th class=\"col_heading level0 col0\" >1</th>        <th class=\"col_heading level0 col1\" >2</th>        <th class=\"col_heading level0 col2\" >3+</th>    </tr>    <tr>        <th class=\"index_name level0\" >experience</th>        <th class=\"blank\" ></th>        <th class=\"blank\" ></th>        <th class=\"blank\" ></th>    </tr></thead><tbody>\n",
       "                <tr>\n",
       "                        <th id=\"T_21d8d1c8_0246_11ea_916b_d0817acf4bc6level0_row0\" class=\"row_heading level0 row0\" >4</th>\n",
       "                        <td id=\"T_21d8d1c8_0246_11ea_916b_d0817acf4bc6row0_col0\" class=\"data row0 col0\" >0.0192308</td>\n",
       "                        <td id=\"T_21d8d1c8_0246_11ea_916b_d0817acf4bc6row0_col1\" class=\"data row0 col1\" >0</td>\n",
       "                        <td id=\"T_21d8d1c8_0246_11ea_916b_d0817acf4bc6row0_col2\" class=\"data row0 col2\" >0</td>\n",
       "            </tr>\n",
       "            <tr>\n",
       "                        <th id=\"T_21d8d1c8_0246_11ea_916b_d0817acf4bc6level0_row1\" class=\"row_heading level0 row1\" >5</th>\n",
       "                        <td id=\"T_21d8d1c8_0246_11ea_916b_d0817acf4bc6row1_col0\" class=\"data row1 col0\" >0.0769231</td>\n",
       "                        <td id=\"T_21d8d1c8_0246_11ea_916b_d0817acf4bc6row1_col1\" class=\"data row1 col1\" >0</td>\n",
       "                        <td id=\"T_21d8d1c8_0246_11ea_916b_d0817acf4bc6row1_col2\" class=\"data row1 col2\" >0</td>\n",
       "            </tr>\n",
       "            <tr>\n",
       "                        <th id=\"T_21d8d1c8_0246_11ea_916b_d0817acf4bc6level0_row2\" class=\"row_heading level0 row2\" >6</th>\n",
       "                        <td id=\"T_21d8d1c8_0246_11ea_916b_d0817acf4bc6row2_col0\" class=\"data row2 col0\" >0.115385</td>\n",
       "                        <td id=\"T_21d8d1c8_0246_11ea_916b_d0817acf4bc6row2_col1\" class=\"data row2 col1\" >0.0535714</td>\n",
       "                        <td id=\"T_21d8d1c8_0246_11ea_916b_d0817acf4bc6row2_col2\" class=\"data row2 col2\" >0.0540541</td>\n",
       "            </tr>\n",
       "            <tr>\n",
       "                        <th id=\"T_21d8d1c8_0246_11ea_916b_d0817acf4bc6level0_row3\" class=\"row_heading level0 row3\" >7</th>\n",
       "                        <td id=\"T_21d8d1c8_0246_11ea_916b_d0817acf4bc6row3_col0\" class=\"data row3 col0\" >0.25</td>\n",
       "                        <td id=\"T_21d8d1c8_0246_11ea_916b_d0817acf4bc6row3_col1\" class=\"data row3 col1\" >0.25</td>\n",
       "                        <td id=\"T_21d8d1c8_0246_11ea_916b_d0817acf4bc6row3_col2\" class=\"data row3 col2\" >0.162162</td>\n",
       "            </tr>\n",
       "            <tr>\n",
       "                        <th id=\"T_21d8d1c8_0246_11ea_916b_d0817acf4bc6level0_row4\" class=\"row_heading level0 row4\" >8</th>\n",
       "                        <td id=\"T_21d8d1c8_0246_11ea_916b_d0817acf4bc6row4_col0\" class=\"data row4 col0\" >0.346154</td>\n",
       "                        <td id=\"T_21d8d1c8_0246_11ea_916b_d0817acf4bc6row4_col1\" class=\"data row4 col1\" >0.321429</td>\n",
       "                        <td id=\"T_21d8d1c8_0246_11ea_916b_d0817acf4bc6row4_col2\" class=\"data row4 col2\" >0.378378</td>\n",
       "            </tr>\n",
       "            <tr>\n",
       "                        <th id=\"T_21d8d1c8_0246_11ea_916b_d0817acf4bc6level0_row5\" class=\"row_heading level0 row5\" >9</th>\n",
       "                        <td id=\"T_21d8d1c8_0246_11ea_916b_d0817acf4bc6row5_col0\" class=\"data row5 col0\" >0.153846</td>\n",
       "                        <td id=\"T_21d8d1c8_0246_11ea_916b_d0817acf4bc6row5_col1\" class=\"data row5 col1\" >0.214286</td>\n",
       "                        <td id=\"T_21d8d1c8_0246_11ea_916b_d0817acf4bc6row5_col2\" class=\"data row5 col2\" >0.243243</td>\n",
       "            </tr>\n",
       "            <tr>\n",
       "                        <th id=\"T_21d8d1c8_0246_11ea_916b_d0817acf4bc6level0_row6\" class=\"row_heading level0 row6\" >10</th>\n",
       "                        <td id=\"T_21d8d1c8_0246_11ea_916b_d0817acf4bc6row6_col0\" class=\"data row6 col0\" >0.0384615</td>\n",
       "                        <td id=\"T_21d8d1c8_0246_11ea_916b_d0817acf4bc6row6_col1\" class=\"data row6 col1\" >0.160714</td>\n",
       "                        <td id=\"T_21d8d1c8_0246_11ea_916b_d0817acf4bc6row6_col2\" class=\"data row6 col2\" >0.162162</td>\n",
       "            </tr>\n",
       "    </tbody></table>"
      ],
      "text/plain": [
       "<pandas.io.formats.style.Styler at 0x1a2d98a210>"
      ]
     },
     "execution_count": 86,
     "metadata": {},
     "output_type": "execute_result"
    },
    {
     "data": {
      "text/plain": [
       "<Figure size 576x288 with 0 Axes>"
      ]
     },
     "metadata": {},
     "output_type": "display_data"
    }
   ],
   "source": [
    "# Creating a contigency table (output count of occurences for each relationships), normalized in the 'column' axis.\n",
    "# This way, count of occurences is expressed in relative % of num_bikes_owned for added total of 1.0\n",
    "# https://pbpython.com/pandas-crosstab.html\n",
    "\n",
    "ct_exp_nbo = pd.crosstab(df['experience'], df['num_bikes_owned'], normalize='columns', margins=False, margins_name='Total')\n",
    "\n",
    "# Styled with a background gradient can be use to display some soft of 'heatmap'.\n",
    "plt.figure(figsize=[8,4])\n",
    "cm = sns.light_palette(\"green\", as_cmap=True)\n",
    "ct_exp_nboStyled = ct_exp_nbo.style.background_gradient(cmap=cm)\n",
    "ct_exp_nboStyled"
   ]
  },
  {
   "cell_type": "code",
   "execution_count": 87,
   "metadata": {},
   "outputs": [
    {
     "data": {
      "text/plain": [
       "<matplotlib.axes._subplots.AxesSubplot at 0x1a2da23910>"
      ]
     },
     "execution_count": 87,
     "metadata": {},
     "output_type": "execute_result"
    },
    {
     "data": {
      "image/png": "[encoded data removed]",
      "text/plain": [
       "<Figure size 576x288 with 2 Axes>"
      ]
     },
     "metadata": {
      "needs_background": "light"
     },
     "output_type": "display_data"
    }
   ],
   "source": [
    "# Feeding crosstap object ct_exp_nbo to generate a nice and proper heatmap of relationships\n",
    "plt.figure(figsize=[8,4])\n",
    "sns.heatmap(ct_exp_nbo, cmap=\"YlGnBu\", annot=True, cbar=True)"
   ]
  },
  {
   "cell_type": "code",
   "execution_count": 88,
   "metadata": {},
   "outputs": [
    {
     "data": {
      "text/plain": [
       "<matplotlib.axes._subplots.AxesSubplot at 0x1a2dbf3f90>"
      ]
     },
     "execution_count": 88,
     "metadata": {},
     "output_type": "execute_result"
    },
    {
     "data": {
      "image/png": "[encoded data removed]",
      "text/plain": [
       "<Figure size 504x504 with 1 Axes>"
      ]
     },
     "metadata": {
      "needs_background": "light"
     },
     "output_type": "display_data"
    }
   ],
   "source": [
    "# Same crosstap object, but with a stacked/ segmented barplot\n",
    "colors = [\"#006D2C\", \"#31A354\",\"#74C476\"]\n",
    "ct_exp_nbo.plot.bar(stacked=True, color=colors, figsize=(7,7))"
   ]
  },
  {
   "cell_type": "code",
   "execution_count": 89,
   "metadata": {},
   "outputs": [
    {
     "data": {
      "text/html": [
       "<style  type=\"text/css\" >\n",
       "    #T_259550ac_0246_11ea_916b_d0817acf4bc6row0_col0 {\n",
       "            background-color:  #8acc8a;\n",
       "            color:  #000000;\n",
       "        }    #T_259550ac_0246_11ea_916b_d0817acf4bc6row0_col1 {\n",
       "            background-color:  #e5ffe5;\n",
       "            color:  #000000;\n",
       "        }    #T_259550ac_0246_11ea_916b_d0817acf4bc6row1_col0 {\n",
       "            background-color:  #7ac47a;\n",
       "            color:  #000000;\n",
       "        }    #T_259550ac_0246_11ea_916b_d0817acf4bc6row1_col1 {\n",
       "            background-color:  #008000;\n",
       "            color:  #f1f1f1;\n",
       "        }    #T_259550ac_0246_11ea_916b_d0817acf4bc6row2_col0 {\n",
       "            background-color:  #008000;\n",
       "            color:  #f1f1f1;\n",
       "        }    #T_259550ac_0246_11ea_916b_d0817acf4bc6row2_col1 {\n",
       "            background-color:  #168c16;\n",
       "            color:  #000000;\n",
       "        }    #T_259550ac_0246_11ea_916b_d0817acf4bc6row3_col0 {\n",
       "            background-color:  #e5ffe5;\n",
       "            color:  #000000;\n",
       "        }    #T_259550ac_0246_11ea_916b_d0817acf4bc6row3_col1 {\n",
       "            background-color:  #83c983;\n",
       "            color:  #000000;\n",
       "        }</style><table id=\"T_259550ac_0246_11ea_916b_d0817acf4bc6\" ><thead>    <tr>        <th class=\"index_name level0\" >platform</th>        <th class=\"col_heading level0 col0\" >Android</th>        <th class=\"col_heading level0 col1\" >iOS</th>    </tr>    <tr>        <th class=\"index_name level0\" >income</th>        <th class=\"blank\" ></th>        <th class=\"blank\" ></th>    </tr></thead><tbody>\n",
       "                <tr>\n",
       "                        <th id=\"T_259550ac_0246_11ea_916b_d0817acf4bc6level0_row0\" class=\"row_heading level0 row0\" >0 - 39,999 / year</th>\n",
       "                        <td id=\"T_259550ac_0246_11ea_916b_d0817acf4bc6row0_col0\" class=\"data row0 col0\" >0.233333</td>\n",
       "                        <td id=\"T_259550ac_0246_11ea_916b_d0817acf4bc6row0_col1\" class=\"data row0 col1\" >0.105882</td>\n",
       "            </tr>\n",
       "            <tr>\n",
       "                        <th id=\"T_259550ac_0246_11ea_916b_d0817acf4bc6level0_row1\" class=\"row_heading level0 row1\" >40,000 - 79,000 / year</th>\n",
       "                        <td id=\"T_259550ac_0246_11ea_916b_d0817acf4bc6row1_col0\" class=\"data row1 col0\" >0.25</td>\n",
       "                        <td id=\"T_259550ac_0246_11ea_916b_d0817acf4bc6row1_col1\" class=\"data row1 col1\" >0.352941</td>\n",
       "            </tr>\n",
       "            <tr>\n",
       "                        <th id=\"T_259550ac_0246_11ea_916b_d0817acf4bc6level0_row2\" class=\"row_heading level0 row2\" >80,000+ / year</th>\n",
       "                        <td id=\"T_259550ac_0246_11ea_916b_d0817acf4bc6row2_col0\" class=\"data row2 col0\" >0.383333</td>\n",
       "                        <td id=\"T_259550ac_0246_11ea_916b_d0817acf4bc6row2_col1\" class=\"data row2 col1\" >0.329412</td>\n",
       "            </tr>\n",
       "            <tr>\n",
       "                        <th id=\"T_259550ac_0246_11ea_916b_d0817acf4bc6level0_row3\" class=\"row_heading level0 row3\" >Prefer not to say</th>\n",
       "                        <td id=\"T_259550ac_0246_11ea_916b_d0817acf4bc6row3_col0\" class=\"data row3 col0\" >0.133333</td>\n",
       "                        <td id=\"T_259550ac_0246_11ea_916b_d0817acf4bc6row3_col1\" class=\"data row3 col1\" >0.211765</td>\n",
       "            </tr>\n",
       "    </tbody></table>"
      ],
      "text/plain": [
       "<pandas.io.formats.style.Styler at 0x1a2da03950>"
      ]
     },
     "execution_count": 89,
     "metadata": {},
     "output_type": "execute_result"
    }
   ],
   "source": [
    "ct_inc_plf = pd.crosstab(df['income'], df['platform'], normalize='columns', margins=False, margins_name='Total')\n",
    "ct_inc_plfStyled = ct_inc_plf.style.background_gradient(cmap=cm)\n",
    "ct_inc_plfStyled"
   ]
  },
  {
   "cell_type": "code",
   "execution_count": 90,
   "metadata": {},
   "outputs": [
    {
     "data": {
      "text/plain": [
       "<matplotlib.axes._subplots.AxesSubplot at 0x1a2dd3db90>"
      ]
     },
     "execution_count": 90,
     "metadata": {},
     "output_type": "execute_result"
    },
    {
     "data": {
      "image/png": "[encoded data removed]",
      "text/plain": [
       "<Figure size 504x504 with 1 Axes>"
      ]
     },
     "metadata": {
      "needs_background": "light"
     },
     "output_type": "display_data"
    }
   ],
   "source": [
    "ct_inc_plf.plot.bar(stacked=True, color=colors, figsize=(7,7))"
   ]
  },
  {
   "cell_type": "markdown",
   "metadata": {},
   "source": [
    "#### Hypothesis\n",
    "People that own more expensive bike tend to ride it more often"
   ]
  },
  {
   "cell_type": "code",
   "execution_count": 95,
   "metadata": {},
   "outputs": [
    {
     "data": {
      "text/html": [
       "<style  type=\"text/css\" >\n",
       "    #T_3fd6be88_0246_11ea_916b_d0817acf4bc6row0_col0 {\n",
       "            background-color:  #e5ffe5;\n",
       "            color:  #000000;\n",
       "        }    #T_3fd6be88_0246_11ea_916b_d0817acf4bc6row0_col1 {\n",
       "            background-color:  #e5ffe5;\n",
       "            color:  #000000;\n",
       "        }    #T_3fd6be88_0246_11ea_916b_d0817acf4bc6row0_col2 {\n",
       "            background-color:  #e5ffe5;\n",
       "            color:  #000000;\n",
       "        }    #T_3fd6be88_0246_11ea_916b_d0817acf4bc6row1_col0 {\n",
       "            background-color:  #e5ffe5;\n",
       "            color:  #000000;\n",
       "        }    #T_3fd6be88_0246_11ea_916b_d0817acf4bc6row1_col1 {\n",
       "            background-color:  #6abb6a;\n",
       "            color:  #000000;\n",
       "        }    #T_3fd6be88_0246_11ea_916b_d0817acf4bc6row1_col2 {\n",
       "            background-color:  #bde9bd;\n",
       "            color:  #000000;\n",
       "        }    #T_3fd6be88_0246_11ea_916b_d0817acf4bc6row2_col0 {\n",
       "            background-color:  #008000;\n",
       "            color:  #f1f1f1;\n",
       "        }    #T_3fd6be88_0246_11ea_916b_d0817acf4bc6row2_col1 {\n",
       "            background-color:  #008000;\n",
       "            color:  #f1f1f1;\n",
       "        }    #T_3fd6be88_0246_11ea_916b_d0817acf4bc6row2_col2 {\n",
       "            background-color:  #44a544;\n",
       "            color:  #000000;\n",
       "        }    #T_3fd6be88_0246_11ea_916b_d0817acf4bc6row3_col0 {\n",
       "            background-color:  #83c983;\n",
       "            color:  #000000;\n",
       "        }    #T_3fd6be88_0246_11ea_916b_d0817acf4bc6row3_col1 {\n",
       "            background-color:  #8dce8d;\n",
       "            color:  #000000;\n",
       "        }    #T_3fd6be88_0246_11ea_916b_d0817acf4bc6row3_col2 {\n",
       "            background-color:  #008000;\n",
       "            color:  #f1f1f1;\n",
       "        }    #T_3fd6be88_0246_11ea_916b_d0817acf4bc6row4_col0 {\n",
       "            background-color:  #c5edc5;\n",
       "            color:  #000000;\n",
       "        }    #T_3fd6be88_0246_11ea_916b_d0817acf4bc6row4_col1 {\n",
       "            background-color:  #c2ecc2;\n",
       "            color:  #000000;\n",
       "        }    #T_3fd6be88_0246_11ea_916b_d0817acf4bc6row4_col2 {\n",
       "            background-color:  #3ca13c;\n",
       "            color:  #000000;\n",
       "        }    #T_3fd6be88_0246_11ea_916b_d0817acf4bc6row5_col0 {\n",
       "            background-color:  #c5edc5;\n",
       "            color:  #000000;\n",
       "        }    #T_3fd6be88_0246_11ea_916b_d0817acf4bc6row5_col1 {\n",
       "            background-color:  #d4f6d4;\n",
       "            color:  #000000;\n",
       "        }    #T_3fd6be88_0246_11ea_916b_d0817acf4bc6row5_col2 {\n",
       "            background-color:  #a2daa2;\n",
       "            color:  #000000;\n",
       "        }</style><table id=\"T_3fd6be88_0246_11ea_916b_d0817acf4bc6\" ><thead>    <tr>        <th class=\"index_name level0\" >rides_per_week</th>        <th class=\"col_heading level0 col0\" >Less than once a week</th>        <th class=\"col_heading level0 col1\" >1-2 times a week</th>        <th class=\"col_heading level0 col2\" >3 or more times a week</th>    </tr>    <tr>        <th class=\"index_name level0\" >bike_cost</th>        <th class=\"blank\" ></th>        <th class=\"blank\" ></th>        <th class=\"blank\" ></th>    </tr></thead><tbody>\n",
       "                <tr>\n",
       "                        <th id=\"T_3fd6be88_0246_11ea_916b_d0817acf4bc6level0_row0\" class=\"row_heading level0 row0\" >Less than 100</th>\n",
       "                        <td id=\"T_3fd6be88_0246_11ea_916b_d0817acf4bc6row0_col0\" class=\"data row0 col0\" >0</td>\n",
       "                        <td id=\"T_3fd6be88_0246_11ea_916b_d0817acf4bc6row0_col1\" class=\"data row0 col1\" >0</td>\n",
       "                        <td id=\"T_3fd6be88_0246_11ea_916b_d0817acf4bc6row0_col2\" class=\"data row0 col2\" >0.00952381</td>\n",
       "            </tr>\n",
       "            <tr>\n",
       "                        <th id=\"T_3fd6be88_0246_11ea_916b_d0817acf4bc6level0_row1\" class=\"row_heading level0 row1\" >100 - 500</th>\n",
       "                        <td id=\"T_3fd6be88_0246_11ea_916b_d0817acf4bc6row1_col0\" class=\"data row1 col0\" >0</td>\n",
       "                        <td id=\"T_3fd6be88_0246_11ea_916b_d0817acf4bc6row1_col1\" class=\"data row1 col1\" >0.25</td>\n",
       "                        <td id=\"T_3fd6be88_0246_11ea_916b_d0817acf4bc6row1_col2\" class=\"data row1 col2\" >0.0666667</td>\n",
       "            </tr>\n",
       "            <tr>\n",
       "                        <th id=\"T_3fd6be88_0246_11ea_916b_d0817acf4bc6level0_row2\" class=\"row_heading level0 row2\" >500 - 1000</th>\n",
       "                        <td id=\"T_3fd6be88_0246_11ea_916b_d0817acf4bc6row2_col0\" class=\"data row2 col0\" >0.583333</td>\n",
       "                        <td id=\"T_3fd6be88_0246_11ea_916b_d0817acf4bc6row2_col1\" class=\"data row2 col1\" >0.464286</td>\n",
       "                        <td id=\"T_3fd6be88_0246_11ea_916b_d0817acf4bc6row2_col2\" class=\"data row2 col2\" >0.238095</td>\n",
       "            </tr>\n",
       "            <tr>\n",
       "                        <th id=\"T_3fd6be88_0246_11ea_916b_d0817acf4bc6level0_row3\" class=\"row_heading level0 row3\" >1000 - 2000</th>\n",
       "                        <td id=\"T_3fd6be88_0246_11ea_916b_d0817acf4bc6row3_col0\" class=\"data row3 col0\" >0.25</td>\n",
       "                        <td id=\"T_3fd6be88_0246_11ea_916b_d0817acf4bc6row3_col1\" class=\"data row3 col1\" >0.178571</td>\n",
       "                        <td id=\"T_3fd6be88_0246_11ea_916b_d0817acf4bc6row3_col2\" class=\"data row3 col2\" >0.333333</td>\n",
       "            </tr>\n",
       "            <tr>\n",
       "                        <th id=\"T_3fd6be88_0246_11ea_916b_d0817acf4bc6level0_row4\" class=\"row_heading level0 row4\" >2000 - 4000</th>\n",
       "                        <td id=\"T_3fd6be88_0246_11ea_916b_d0817acf4bc6row4_col0\" class=\"data row4 col0\" >0.0833333</td>\n",
       "                        <td id=\"T_3fd6be88_0246_11ea_916b_d0817acf4bc6row4_col1\" class=\"data row4 col1\" >0.0714286</td>\n",
       "                        <td id=\"T_3fd6be88_0246_11ea_916b_d0817acf4bc6row4_col2\" class=\"data row4 col2\" >0.247619</td>\n",
       "            </tr>\n",
       "            <tr>\n",
       "                        <th id=\"T_3fd6be88_0246_11ea_916b_d0817acf4bc6level0_row5\" class=\"row_heading level0 row5\" >4000+</th>\n",
       "                        <td id=\"T_3fd6be88_0246_11ea_916b_d0817acf4bc6row5_col0\" class=\"data row5 col0\" >0.0833333</td>\n",
       "                        <td id=\"T_3fd6be88_0246_11ea_916b_d0817acf4bc6row5_col1\" class=\"data row5 col1\" >0.0357143</td>\n",
       "                        <td id=\"T_3fd6be88_0246_11ea_916b_d0817acf4bc6row5_col2\" class=\"data row5 col2\" >0.104762</td>\n",
       "            </tr>\n",
       "    </tbody></table>"
      ],
      "text/plain": [
       "<pandas.io.formats.style.Styler at 0x1a2de872d0>"
      ]
     },
     "execution_count": 95,
     "metadata": {},
     "output_type": "execute_result"
    },
    {
     "data": {
      "text/plain": [
       "<Figure size 288x216 with 0 Axes>"
      ]
     },
     "metadata": {},
     "output_type": "display_data"
    }
   ],
   "source": [
    "ct_bc_rpw = pd.crosstab(df['bike_cost'], df['rides_per_week'], normalize='columns', margins=False, margins_name='Total').reindex(index=bc, columns=rpw)  \n",
    "ct_bc_rpwStyled = ct_bc_rpw.style.background_gradient(cmap=cm)\n",
    "plt.figure(figsize=[4,3])\n",
    "ct_bc_rpwStyled"
   ]
  },
  {
   "cell_type": "code",
   "execution_count": 96,
   "metadata": {},
   "outputs": [
    {
     "data": {
      "text/plain": [
       "<matplotlib.axes._subplots.AxesSubplot at 0x1a2debc5d0>"
      ]
     },
     "execution_count": 96,
     "metadata": {},
     "output_type": "execute_result"
    },
    {
     "data": {
      "image/png": "[encoded data removed]",
      "text/plain": [
       "<Figure size 504x504 with 1 Axes>"
      ]
     },
     "metadata": {
      "needs_background": "light"
     },
     "output_type": "display_data"
    }
   ],
   "source": [
    "rcolors = [\"#74C476\", \"#31A354\", \"#006D2C\"]\n",
    "ct_bc_rpw.plot.bar(stacked=True, color=rcolors, figsize=(7,7))"
   ]
  },
  {
   "cell_type": "code",
   "execution_count": 97,
   "metadata": {},
   "outputs": [
    {
     "data": {
      "text/html": [
       "<div>\n",
       "<style scoped>\n",
       "    .dataframe tbody tr th:only-of-type {\n",
       "        vertical-align: middle;\n",
       "    }\n",
       "\n",
       "    .dataframe tbody tr th {\n",
       "        vertical-align: top;\n",
       "    }\n",
       "\n",
       "    .dataframe thead tr th {\n",
       "        text-align: left;\n",
       "    }\n",
       "\n",
       "    .dataframe thead tr:last-of-type th {\n",
       "        text-align: right;\n",
       "    }\n",
       "</style>\n",
       "<table border=\"1\" class=\"dataframe\">\n",
       "  <thead>\n",
       "    <tr>\n",
       "      <th>bike_cost</th>\n",
       "      <th colspan=\"2\" halign=\"left\">100 - 500</th>\n",
       "      <th colspan=\"3\" halign=\"left\">1000 - 2000</th>\n",
       "      <th colspan=\"3\" halign=\"left\">2000 - 4000</th>\n",
       "      <th colspan=\"3\" halign=\"left\">4000+</th>\n",
       "      <th colspan=\"3\" halign=\"left\">500 - 1000</th>\n",
       "      <th>Less than 100</th>\n",
       "    </tr>\n",
       "    <tr>\n",
       "      <th>rides_per_week</th>\n",
       "      <th>1-2 times a week</th>\n",
       "      <th>3 or more times a week</th>\n",
       "      <th>1-2 times a week</th>\n",
       "      <th>3 or more times a week</th>\n",
       "      <th>Less than once a week</th>\n",
       "      <th>1-2 times a week</th>\n",
       "      <th>3 or more times a week</th>\n",
       "      <th>Less than once a week</th>\n",
       "      <th>1-2 times a week</th>\n",
       "      <th>3 or more times a week</th>\n",
       "      <th>Less than once a week</th>\n",
       "      <th>1-2 times a week</th>\n",
       "      <th>3 or more times a week</th>\n",
       "      <th>Less than once a week</th>\n",
       "      <th>3 or more times a week</th>\n",
       "    </tr>\n",
       "    <tr>\n",
       "      <th>income</th>\n",
       "      <th></th>\n",
       "      <th></th>\n",
       "      <th></th>\n",
       "      <th></th>\n",
       "      <th></th>\n",
       "      <th></th>\n",
       "      <th></th>\n",
       "      <th></th>\n",
       "      <th></th>\n",
       "      <th></th>\n",
       "      <th></th>\n",
       "      <th></th>\n",
       "      <th></th>\n",
       "      <th></th>\n",
       "      <th></th>\n",
       "    </tr>\n",
       "  </thead>\n",
       "  <tbody>\n",
       "    <tr>\n",
       "      <th>0 - 39,999 / year</th>\n",
       "      <td>3</td>\n",
       "      <td>2</td>\n",
       "      <td>1</td>\n",
       "      <td>2</td>\n",
       "      <td>0</td>\n",
       "      <td>0</td>\n",
       "      <td>2</td>\n",
       "      <td>1</td>\n",
       "      <td>0</td>\n",
       "      <td>0</td>\n",
       "      <td>1</td>\n",
       "      <td>5</td>\n",
       "      <td>4</td>\n",
       "      <td>2</td>\n",
       "      <td>0</td>\n",
       "    </tr>\n",
       "    <tr>\n",
       "      <th>40,000 - 79,000 / year</th>\n",
       "      <td>1</td>\n",
       "      <td>4</td>\n",
       "      <td>1</td>\n",
       "      <td>10</td>\n",
       "      <td>1</td>\n",
       "      <td>1</td>\n",
       "      <td>8</td>\n",
       "      <td>0</td>\n",
       "      <td>0</td>\n",
       "      <td>2</td>\n",
       "      <td>0</td>\n",
       "      <td>4</td>\n",
       "      <td>11</td>\n",
       "      <td>1</td>\n",
       "      <td>1</td>\n",
       "    </tr>\n",
       "    <tr>\n",
       "      <th>80,000+ / year</th>\n",
       "      <td>3</td>\n",
       "      <td>1</td>\n",
       "      <td>2</td>\n",
       "      <td>18</td>\n",
       "      <td>2</td>\n",
       "      <td>0</td>\n",
       "      <td>5</td>\n",
       "      <td>0</td>\n",
       "      <td>1</td>\n",
       "      <td>6</td>\n",
       "      <td>0</td>\n",
       "      <td>4</td>\n",
       "      <td>6</td>\n",
       "      <td>3</td>\n",
       "      <td>0</td>\n",
       "    </tr>\n",
       "    <tr>\n",
       "      <th>Prefer not to say</th>\n",
       "      <td>0</td>\n",
       "      <td>0</td>\n",
       "      <td>1</td>\n",
       "      <td>5</td>\n",
       "      <td>0</td>\n",
       "      <td>1</td>\n",
       "      <td>11</td>\n",
       "      <td>0</td>\n",
       "      <td>0</td>\n",
       "      <td>3</td>\n",
       "      <td>0</td>\n",
       "      <td>0</td>\n",
       "      <td>4</td>\n",
       "      <td>1</td>\n",
       "      <td>0</td>\n",
       "    </tr>\n",
       "  </tbody>\n",
       "</table>\n",
       "</div>"
      ],
      "text/plain": [
       "bike_cost                     100 - 500                         \\\n",
       "rides_per_week         1-2 times a week 3 or more times a week   \n",
       "income                                                           \n",
       "0 - 39,999 / year                     3                      2   \n",
       "40,000 - 79,000 / year                1                      4   \n",
       "80,000+ / year                        3                      1   \n",
       "Prefer not to say                     0                      0   \n",
       "\n",
       "bike_cost                   1000 - 2000                         \\\n",
       "rides_per_week         1-2 times a week 3 or more times a week   \n",
       "income                                                           \n",
       "0 - 39,999 / year                     1                      2   \n",
       "40,000 - 79,000 / year                1                     10   \n",
       "80,000+ / year                        2                     18   \n",
       "Prefer not to say                     1                      5   \n",
       "\n",
       "bike_cost                                         2000 - 4000  \\\n",
       "rides_per_week         Less than once a week 1-2 times a week   \n",
       "income                                                          \n",
       "0 - 39,999 / year                          0                0   \n",
       "40,000 - 79,000 / year                     1                1   \n",
       "80,000+ / year                             2                0   \n",
       "Prefer not to say                          0                1   \n",
       "\n",
       "bike_cost                                                            \\\n",
       "rides_per_week         3 or more times a week Less than once a week   \n",
       "income                                                                \n",
       "0 - 39,999 / year                           2                     1   \n",
       "40,000 - 79,000 / year                      8                     0   \n",
       "80,000+ / year                              5                     0   \n",
       "Prefer not to say                          11                     0   \n",
       "\n",
       "bike_cost                         4000+                         \\\n",
       "rides_per_week         1-2 times a week 3 or more times a week   \n",
       "income                                                           \n",
       "0 - 39,999 / year                     0                      0   \n",
       "40,000 - 79,000 / year                0                      2   \n",
       "80,000+ / year                        1                      6   \n",
       "Prefer not to say                     0                      3   \n",
       "\n",
       "bike_cost                                          500 - 1000  \\\n",
       "rides_per_week         Less than once a week 1-2 times a week   \n",
       "income                                                          \n",
       "0 - 39,999 / year                          1                5   \n",
       "40,000 - 79,000 / year                     0                4   \n",
       "80,000+ / year                             0                4   \n",
       "Prefer not to say                          0                0   \n",
       "\n",
       "bike_cost                                                            \\\n",
       "rides_per_week         3 or more times a week Less than once a week   \n",
       "income                                                                \n",
       "0 - 39,999 / year                           4                     2   \n",
       "40,000 - 79,000 / year                     11                     1   \n",
       "80,000+ / year                              6                     3   \n",
       "Prefer not to say                           4                     1   \n",
       "\n",
       "bike_cost                       Less than 100  \n",
       "rides_per_week         3 or more times a week  \n",
       "income                                         \n",
       "0 - 39,999 / year                           0  \n",
       "40,000 - 79,000 / year                      1  \n",
       "80,000+ / year                              0  \n",
       "Prefer not to say                           0  "
      ]
     },
     "execution_count": 97,
     "metadata": {},
     "output_type": "execute_result"
    }
   ],
   "source": [
    "pd.crosstab(df['income'], [df['bike_cost'], df['rides_per_week']])"
   ]
  },
  {
   "cell_type": "code",
   "execution_count": 98,
   "metadata": {},
   "outputs": [
    {
     "data": {
      "text/html": [
       "<div>\n",
       "<style scoped>\n",
       "    .dataframe tbody tr th:only-of-type {\n",
       "        vertical-align: middle;\n",
       "    }\n",
       "\n",
       "    .dataframe tbody tr th {\n",
       "        vertical-align: top;\n",
       "    }\n",
       "\n",
       "    .dataframe thead tr th {\n",
       "        text-align: left;\n",
       "    }\n",
       "\n",
       "    .dataframe thead tr:last-of-type th {\n",
       "        text-align: right;\n",
       "    }\n",
       "</style>\n",
       "<table border=\"1\" class=\"dataframe\">\n",
       "  <thead>\n",
       "    <tr>\n",
       "      <th>num_bikes_owned</th>\n",
       "      <th colspan=\"7\" halign=\"left\">1</th>\n",
       "      <th colspan=\"5\" halign=\"left\">2</th>\n",
       "      <th colspan=\"5\" halign=\"left\">3+</th>\n",
       "    </tr>\n",
       "    <tr>\n",
       "      <th>experience</th>\n",
       "      <th>4</th>\n",
       "      <th>5</th>\n",
       "      <th>6</th>\n",
       "      <th>7</th>\n",
       "      <th>8</th>\n",
       "      <th>9</th>\n",
       "      <th>10</th>\n",
       "      <th>6</th>\n",
       "      <th>7</th>\n",
       "      <th>8</th>\n",
       "      <th>9</th>\n",
       "      <th>10</th>\n",
       "      <th>6</th>\n",
       "      <th>7</th>\n",
       "      <th>8</th>\n",
       "      <th>9</th>\n",
       "      <th>10</th>\n",
       "    </tr>\n",
       "    <tr>\n",
       "      <th>income</th>\n",
       "      <th></th>\n",
       "      <th></th>\n",
       "      <th></th>\n",
       "      <th></th>\n",
       "      <th></th>\n",
       "      <th></th>\n",
       "      <th></th>\n",
       "      <th></th>\n",
       "      <th></th>\n",
       "      <th></th>\n",
       "      <th></th>\n",
       "      <th></th>\n",
       "      <th></th>\n",
       "      <th></th>\n",
       "      <th></th>\n",
       "      <th></th>\n",
       "      <th></th>\n",
       "    </tr>\n",
       "  </thead>\n",
       "  <tbody>\n",
       "    <tr>\n",
       "      <th>0 - 39,999 / year</th>\n",
       "      <td>0</td>\n",
       "      <td>2</td>\n",
       "      <td>1</td>\n",
       "      <td>3</td>\n",
       "      <td>1</td>\n",
       "      <td>1</td>\n",
       "      <td>1</td>\n",
       "      <td>0</td>\n",
       "      <td>2</td>\n",
       "      <td>4</td>\n",
       "      <td>2</td>\n",
       "      <td>0</td>\n",
       "      <td>0</td>\n",
       "      <td>1</td>\n",
       "      <td>3</td>\n",
       "      <td>1</td>\n",
       "      <td>1</td>\n",
       "    </tr>\n",
       "    <tr>\n",
       "      <th>40,000 - 79,000 / year</th>\n",
       "      <td>1</td>\n",
       "      <td>1</td>\n",
       "      <td>4</td>\n",
       "      <td>5</td>\n",
       "      <td>9</td>\n",
       "      <td>3</td>\n",
       "      <td>0</td>\n",
       "      <td>0</td>\n",
       "      <td>3</td>\n",
       "      <td>6</td>\n",
       "      <td>3</td>\n",
       "      <td>2</td>\n",
       "      <td>0</td>\n",
       "      <td>1</td>\n",
       "      <td>2</td>\n",
       "      <td>5</td>\n",
       "      <td>0</td>\n",
       "    </tr>\n",
       "    <tr>\n",
       "      <th>80,000+ / year</th>\n",
       "      <td>0</td>\n",
       "      <td>1</td>\n",
       "      <td>1</td>\n",
       "      <td>3</td>\n",
       "      <td>5</td>\n",
       "      <td>2</td>\n",
       "      <td>0</td>\n",
       "      <td>1</td>\n",
       "      <td>7</td>\n",
       "      <td>6</td>\n",
       "      <td>6</td>\n",
       "      <td>4</td>\n",
       "      <td>1</td>\n",
       "      <td>4</td>\n",
       "      <td>5</td>\n",
       "      <td>2</td>\n",
       "      <td>3</td>\n",
       "    </tr>\n",
       "    <tr>\n",
       "      <th>Prefer not to say</th>\n",
       "      <td>0</td>\n",
       "      <td>0</td>\n",
       "      <td>0</td>\n",
       "      <td>2</td>\n",
       "      <td>3</td>\n",
       "      <td>2</td>\n",
       "      <td>1</td>\n",
       "      <td>2</td>\n",
       "      <td>2</td>\n",
       "      <td>2</td>\n",
       "      <td>1</td>\n",
       "      <td>3</td>\n",
       "      <td>1</td>\n",
       "      <td>0</td>\n",
       "      <td>4</td>\n",
       "      <td>1</td>\n",
       "      <td>2</td>\n",
       "    </tr>\n",
       "  </tbody>\n",
       "</table>\n",
       "</div>"
      ],
      "text/plain": [
       "num_bikes_owned         1                    2             3+            \n",
       "experience             4  5  6  7  8  9  10 6  7  8  9  10 6  7  8  9  10\n",
       "income                                                                   \n",
       "0 - 39,999 / year       0  2  1  3  1  1  1  0  2  4  2  0  0  1  3  1  1\n",
       "40,000 - 79,000 / year  1  1  4  5  9  3  0  0  3  6  3  2  0  1  2  5  0\n",
       "80,000+ / year          0  1  1  3  5  2  0  1  7  6  6  4  1  4  5  2  3\n",
       "Prefer not to say       0  0  0  2  3  2  1  2  2  2  1  3  1  0  4  1  2"
      ]
     },
     "execution_count": 98,
     "metadata": {},
     "output_type": "execute_result"
    }
   ],
   "source": [
    "ct_inc_Vs_exp_nbo = pd.crosstab(df['income'], [df['num_bikes_owned'], df['experience']])\n",
    "ct_inc_Vs_exp_nbo"
   ]
  },
  {
   "cell_type": "code",
   "execution_count": 99,
   "metadata": {},
   "outputs": [
    {
     "data": {
      "text/plain": [
       "<matplotlib.axes._subplots.AxesSubplot at 0x1a2dffa9d0>"
      ]
     },
     "execution_count": 99,
     "metadata": {},
     "output_type": "execute_result"
    },
    {
     "data": {
      "image/png": "[encoded data removed]",
      "text/plain": [
       "<Figure size 576x216 with 2 Axes>"
      ]
     },
     "metadata": {
      "needs_background": "light"
     },
     "output_type": "display_data"
    }
   ],
   "source": [
    "plt.figure(figsize=[8,3])\n",
    "sns.heatmap(ct_inc_Vs_exp_nbo, cmap=\"YlGnBu\", annot=True, cbar=True)"
   ]
  },
  {
   "cell_type": "code",
   "execution_count": 100,
   "metadata": {},
   "outputs": [
    {
     "data": {
      "text/html": [
       "<div>\n",
       "<style scoped>\n",
       "    .dataframe tbody tr th:only-of-type {\n",
       "        vertical-align: middle;\n",
       "    }\n",
       "\n",
       "    .dataframe tbody tr th {\n",
       "        vertical-align: top;\n",
       "    }\n",
       "\n",
       "    .dataframe thead tr th {\n",
       "        text-align: left;\n",
       "    }\n",
       "\n",
       "    .dataframe thead tr:last-of-type th {\n",
       "        text-align: right;\n",
       "    }\n",
       "</style>\n",
       "<table border=\"1\" class=\"dataframe\">\n",
       "  <thead>\n",
       "    <tr>\n",
       "      <th>experience</th>\n",
       "      <th>4</th>\n",
       "      <th>5</th>\n",
       "      <th colspan=\"3\" halign=\"left\">6</th>\n",
       "      <th colspan=\"3\" halign=\"left\">7</th>\n",
       "      <th colspan=\"3\" halign=\"left\">8</th>\n",
       "      <th colspan=\"3\" halign=\"left\">9</th>\n",
       "      <th colspan=\"3\" halign=\"left\">10</th>\n",
       "    </tr>\n",
       "    <tr>\n",
       "      <th>num_bikes_owned</th>\n",
       "      <th>1</th>\n",
       "      <th>1</th>\n",
       "      <th>1</th>\n",
       "      <th>2</th>\n",
       "      <th>3+</th>\n",
       "      <th>1</th>\n",
       "      <th>2</th>\n",
       "      <th>3+</th>\n",
       "      <th>1</th>\n",
       "      <th>2</th>\n",
       "      <th>3+</th>\n",
       "      <th>1</th>\n",
       "      <th>2</th>\n",
       "      <th>3+</th>\n",
       "      <th>1</th>\n",
       "      <th>2</th>\n",
       "      <th>3+</th>\n",
       "    </tr>\n",
       "    <tr>\n",
       "      <th>income</th>\n",
       "      <th></th>\n",
       "      <th></th>\n",
       "      <th></th>\n",
       "      <th></th>\n",
       "      <th></th>\n",
       "      <th></th>\n",
       "      <th></th>\n",
       "      <th></th>\n",
       "      <th></th>\n",
       "      <th></th>\n",
       "      <th></th>\n",
       "      <th></th>\n",
       "      <th></th>\n",
       "      <th></th>\n",
       "      <th></th>\n",
       "      <th></th>\n",
       "      <th></th>\n",
       "    </tr>\n",
       "  </thead>\n",
       "  <tbody>\n",
       "    <tr>\n",
       "      <th>0 - 39,999 / year</th>\n",
       "      <td>0.000000</td>\n",
       "      <td>0.086957</td>\n",
       "      <td>0.043478</td>\n",
       "      <td>0.000000</td>\n",
       "      <td>0.000000</td>\n",
       "      <td>0.130435</td>\n",
       "      <td>0.086957</td>\n",
       "      <td>0.043478</td>\n",
       "      <td>0.043478</td>\n",
       "      <td>0.173913</td>\n",
       "      <td>0.130435</td>\n",
       "      <td>0.043478</td>\n",
       "      <td>0.086957</td>\n",
       "      <td>0.043478</td>\n",
       "      <td>0.043478</td>\n",
       "      <td>0.000000</td>\n",
       "      <td>0.043478</td>\n",
       "    </tr>\n",
       "    <tr>\n",
       "      <th>40,000 - 79,000 / year</th>\n",
       "      <td>0.022222</td>\n",
       "      <td>0.022222</td>\n",
       "      <td>0.088889</td>\n",
       "      <td>0.000000</td>\n",
       "      <td>0.000000</td>\n",
       "      <td>0.111111</td>\n",
       "      <td>0.066667</td>\n",
       "      <td>0.022222</td>\n",
       "      <td>0.200000</td>\n",
       "      <td>0.133333</td>\n",
       "      <td>0.044444</td>\n",
       "      <td>0.066667</td>\n",
       "      <td>0.066667</td>\n",
       "      <td>0.111111</td>\n",
       "      <td>0.000000</td>\n",
       "      <td>0.044444</td>\n",
       "      <td>0.000000</td>\n",
       "    </tr>\n",
       "    <tr>\n",
       "      <th>80,000+ / year</th>\n",
       "      <td>0.000000</td>\n",
       "      <td>0.019608</td>\n",
       "      <td>0.019608</td>\n",
       "      <td>0.019608</td>\n",
       "      <td>0.019608</td>\n",
       "      <td>0.058824</td>\n",
       "      <td>0.137255</td>\n",
       "      <td>0.078431</td>\n",
       "      <td>0.098039</td>\n",
       "      <td>0.117647</td>\n",
       "      <td>0.098039</td>\n",
       "      <td>0.039216</td>\n",
       "      <td>0.117647</td>\n",
       "      <td>0.039216</td>\n",
       "      <td>0.000000</td>\n",
       "      <td>0.078431</td>\n",
       "      <td>0.058824</td>\n",
       "    </tr>\n",
       "    <tr>\n",
       "      <th>Prefer not to say</th>\n",
       "      <td>0.000000</td>\n",
       "      <td>0.000000</td>\n",
       "      <td>0.000000</td>\n",
       "      <td>0.076923</td>\n",
       "      <td>0.038462</td>\n",
       "      <td>0.076923</td>\n",
       "      <td>0.076923</td>\n",
       "      <td>0.000000</td>\n",
       "      <td>0.115385</td>\n",
       "      <td>0.076923</td>\n",
       "      <td>0.153846</td>\n",
       "      <td>0.076923</td>\n",
       "      <td>0.038462</td>\n",
       "      <td>0.038462</td>\n",
       "      <td>0.038462</td>\n",
       "      <td>0.115385</td>\n",
       "      <td>0.076923</td>\n",
       "    </tr>\n",
       "  </tbody>\n",
       "</table>\n",
       "</div>"
      ],
      "text/plain": [
       "experience                    4         5         6                       \\\n",
       "num_bikes_owned                1         1         1         2        3+   \n",
       "income                                                                     \n",
       "0 - 39,999 / year       0.000000  0.086957  0.043478  0.000000  0.000000   \n",
       "40,000 - 79,000 / year  0.022222  0.022222  0.088889  0.000000  0.000000   \n",
       "80,000+ / year          0.000000  0.019608  0.019608  0.019608  0.019608   \n",
       "Prefer not to say       0.000000  0.000000  0.000000  0.076923  0.038462   \n",
       "\n",
       "experience                    7                             8             \\\n",
       "num_bikes_owned                1         2        3+         1         2   \n",
       "income                                                                     \n",
       "0 - 39,999 / year       0.130435  0.086957  0.043478  0.043478  0.173913   \n",
       "40,000 - 79,000 / year  0.111111  0.066667  0.022222  0.200000  0.133333   \n",
       "80,000+ / year          0.058824  0.137255  0.078431  0.098039  0.117647   \n",
       "Prefer not to say       0.076923  0.076923  0.000000  0.115385  0.076923   \n",
       "\n",
       "experience                              9                             10  \\\n",
       "num_bikes_owned               3+         1         2        3+         1   \n",
       "income                                                                     \n",
       "0 - 39,999 / year       0.130435  0.043478  0.086957  0.043478  0.043478   \n",
       "40,000 - 79,000 / year  0.044444  0.066667  0.066667  0.111111  0.000000   \n",
       "80,000+ / year          0.098039  0.039216  0.117647  0.039216  0.000000   \n",
       "Prefer not to say       0.153846  0.076923  0.038462  0.038462  0.038462   \n",
       "\n",
       "experience                                  \n",
       "num_bikes_owned                2        3+  \n",
       "income                                      \n",
       "0 - 39,999 / year       0.000000  0.043478  \n",
       "40,000 - 79,000 / year  0.044444  0.000000  \n",
       "80,000+ / year          0.078431  0.058824  \n",
       "Prefer not to say       0.115385  0.076923  "
      ]
     },
     "execution_count": 100,
     "metadata": {},
     "output_type": "execute_result"
    }
   ],
   "source": [
    "ct_inc_Vs_exp_nbo2 = pd.crosstab(df['income'], [df['experience'], df['num_bikes_owned']], normalize='index')\n",
    "ct_inc_Vs_exp_nbo2"
   ]
  },
  {
   "cell_type": "code",
   "execution_count": 101,
   "metadata": {},
   "outputs": [
    {
     "data": {
      "text/plain": [
       "<matplotlib.axes._subplots.AxesSubplot at 0x1a246cda50>"
      ]
     },
     "execution_count": 101,
     "metadata": {},
     "output_type": "execute_result"
    },
    {
     "data": {
      "image/png": "[encoded data removed]",
      "text/plain": [
       "<Figure size 720x216 with 2 Axes>"
      ]
     },
     "metadata": {
      "needs_background": "light"
     },
     "output_type": "display_data"
    }
   ],
   "source": [
    "plt.figure(figsize=[10,3])\n",
    "sns.heatmap(ct_inc_Vs_exp_nbo2, cmap=\"YlGnBu\", annot=True, cbar=True)"
   ]
  },
  {
   "cell_type": "code",
   "execution_count": 102,
   "metadata": {},
   "outputs": [
    {
     "data": {
      "text/plain": [
       "\"\\nfrom statsmodels.graphics.mosaicplot import mosaic\\ntips = sns.load_dataset('tips')\\nmosaic(tips, ['sex','smoker','time'])\\nplt.show()\""
      ]
     },
     "execution_count": 102,
     "metadata": {},
     "output_type": "execute_result"
    }
   ],
   "source": [
    "# Mosaic chart could be a relevant way to explore multi-dimentionnal relationships between categorical data\n",
    "# TB explored. See following links for details\n",
    "# https://www.statsmodels.org/stable/generated/statsmodels.graphics.mosaicplot.mosaic.html\n",
    "# https://sukhbinder.wordpress.com/2018/09/18/mosaic-plot-in-python/\n",
    "# https://www.youtube.com/watch?v=zLHunbpH5Hg\n",
    "'''\n",
    "from statsmodels.graphics.mosaicplot import mosaic\n",
    "tips = sns.load_dataset('tips')\n",
    "mosaic(tips, ['sex','smoker','time'])\n",
    "plt.show()'''"
   ]
  },
  {
   "cell_type": "markdown",
   "metadata": {},
   "source": [
    "## Exploring ML as analysis tool"
   ]
  },
  {
   "cell_type": "markdown",
   "metadata": {
    "jupyter": {
     "source_hidden": true
    }
   },
   "source": [
    "### Unsupervized learning in Python Chap3 p. 33\n",
    "scipy.sparse.csr_matrix"
   ]
  },
  {
   "cell_type": "code",
   "execution_count": 103,
   "metadata": {},
   "outputs": [
    {
     "name": "stdout",
     "output_type": "stream",
     "text": [
      "Number of unique combinaison of answer for each questions \n",
      "\n",
      "Bike_type:   65\n",
      "Companions:   14\n",
      "Conditions:   32\n",
      "Activities:   115\n",
      "Reasons_to_bike:   127\n",
      "Reasons_to_not_bike:   85\n",
      "Reason_for_smarthalo:   97\n"
     ]
    }
   ],
   "source": [
    "to_sparse = ['bike_type', 'companions', 'conditions', 'activities', 'reasons_to_bike', 'reasons_to_not_bike', 'reason_for_smarthalo']\n",
    "\n",
    "print('Number of unique combinaison of answer for each questions', '\\n')\n",
    "for i in to_sparse:\n",
    "    print('{}:  '.format(i.capitalize()), df[i].nunique())"
   ]
  },
  {
   "cell_type": "markdown",
   "metadata": {},
   "source": [
    "### NLP tokenization & sklearn CountVectorizer() "
   ]
  },
  {
   "cell_type": "code",
   "execution_count": 104,
   "metadata": {},
   "outputs": [
    {
     "name": "stdout",
     "output_type": "stream",
     "text": [
      "['all road', 'bike share bike', 'brompton', 'brompton folding ', 'cargo bike', 'cruiser / city bike', 'e-bike', 'faltrad', 'fat', 'fat bike', 'foldable', 'folding', 'gravel bike', 'hybrid bike', 'mountain bike', 'recumbent', 'recumbent trike', 'road bike', 'single-speed bike', 'speed pedelec (45km/h e-bike)', 'time-trial race bike', 'touring', 'touring bike'] \n",
      "\n",
      "['i bike alone', 'with a riding pack', 'with family and friends', 'with young children'] \n",
      "\n",
      "['hot/humid', 'night', 'rain', 'snow/ice', 'temperate'] \n",
      "\n",
      "['chores / errands', 'commuting', 'fitness', 'mountain biking', 'pleasure rides', 'racing', 'teaching', 'touring', 'transportation', 'work'] \n",
      "\n",
      "['endurance training and relaxation', 'i have friends/family who also bike', 'i want to be healthy', 'i want to reduce my environmental impact', 'i want to set a good example for my kids', 'it energizes me', 'it enhances my calm', 'it’s a unique way to see the world', 'it’s cheaper', 'it’s faster', 'it’s more convenient', 'it’s more fun', 'it’s more reliable', 'it’s my hobby/interest', 'it’s part of my identity/culture'] \n",
      "\n",
      "[\"i don't know the way\", \"i don't want to sweat\", 'i feel lazy', 'i have to carry things with me', \"it wouldn't be fun\", \"it's not safe for me\", \"it's not safe for my bike\", \"it's too dark\", 'the route is too long/steep', \"the weather doesn't suit me\"] \n",
      "\n",
      "['because i have smarthalo 1 and love it ', \"because it's cool!\", 'for a press review', 'it was a gift', 'it was a gift. but i bought the new model myself', 'local support mtl', 'safest routes)', \"so i don't have to look at my phone while riding\", 'to help keep my bike safe', 'to help me keep track of my environmental goals', 'to help me keep track of my fitness goals', 'to help me navigate', 'to help me stay safe (nightlight', 'to support a new company that came up with a revolutionary design', 'using the latest gadget is also hobby', 'why not?'] \n",
      "\n"
     ]
    }
   ],
   "source": [
    "from sklearn.feature_extraction.text import CountVectorizer\n",
    "\n",
    "# Instantiate the CountVectorizer: vec\n",
    "vec = CountVectorizer(tokenizer=lambda x: x.split(', '))  # Object to convert in matrix of token counts \n",
    "\n",
    "# Fit to the data\n",
    "for i in to_sparse:\n",
    "    vec.fit(df[i]) # Convert df.bike_type to matrix of token\n",
    "    print(vec.get_feature_names(), '\\n')\n",
    "\n",
    "#Archives\n",
    "# TOKENS = '(?:[a-zA-Z1-9/-]|\\s)' # Take only strings between ',' as token but, lamba function x.split(', ') works better   \n",
    "# print(\"There are {} tokens in the dataset\".format(len(vec.get_feature_names())))"
   ]
  },
  {
   "cell_type": "code",
   "execution_count": 105,
   "metadata": {},
   "outputs": [],
   "source": [
    "# {'col_to_parse': {'value_to_replace': 'replace_with_value'}}\n",
    "replace_val = {'bike_type': {'gravel bike': 'all road', 'Brompton': 'foldable', 'Brompton folding ': 'foldable', 'folding': 'foldable', 'FALTRAD': 'foldable', 'fat': 'fat bike', 'recumbent trike': 'recumbent', 'speed pedelec (45km/h e-bike)': 'e-bike', 'time-trial race bike': 'road bike', 'touring': 'touring bike'}}\n",
    "df.bike_type.replace(replace_val, inplace=True)"
   ]
  },
  {
   "cell_type": "code",
   "execution_count": 106,
   "metadata": {},
   "outputs": [
    {
     "data": {
      "text/plain": [
       "['all road',\n",
       " 'bike share bike',\n",
       " 'brompton',\n",
       " 'brompton folding ',\n",
       " 'cargo bike',\n",
       " 'cruiser / city bike',\n",
       " 'e-bike',\n",
       " 'faltrad',\n",
       " 'fat',\n",
       " 'fat bike',\n",
       " 'foldable',\n",
       " 'folding',\n",
       " 'gravel bike',\n",
       " 'hybrid bike',\n",
       " 'mountain bike',\n",
       " 'recumbent',\n",
       " 'recumbent trike',\n",
       " 'road bike',\n",
       " 'single-speed bike',\n",
       " 'speed pedelec (45km/h e-bike)',\n",
       " 'time-trial race bike',\n",
       " 'touring',\n",
       " 'touring bike']"
      ]
     },
     "execution_count": 106,
     "metadata": {},
     "output_type": "execute_result"
    }
   ],
   "source": [
    "vec.fit(df['bike_type'])\n",
    "vec.get_feature_names()"
   ]
  },
  {
   "cell_type": "code",
   "execution_count": 107,
   "metadata": {},
   "outputs": [
    {
     "data": {
      "text/plain": [
       "0    Hybrid bike, I bike alone, Hot/Humid, Night, T...\n",
       "1    Road bike, I bike alone, Temperate, Rain, Hot/...\n",
       "2    Hybrid bike, I bike alone, Temperate, Commutin...\n",
       "3    Hybrid bike, I bike alone, Night, Temperate, R...\n",
       "4    Mountain bike, With family and friends, Temper...\n",
       "dtype: object"
      ]
     },
     "execution_count": 107,
     "metadata": {},
     "output_type": "execute_result"
    }
   ],
   "source": [
    "df_text = df[to_sparse].apply(lambda x: \", \".join(x), axis=1)\n",
    "df_text.head()"
   ]
  },
  {
   "cell_type": "code",
   "execution_count": 108,
   "metadata": {},
   "outputs": [
    {
     "name": "stdout",
     "output_type": "stream",
     "text": [
      "There are 82 tokens in the dataset\n"
     ]
    }
   ],
   "source": [
    "# Instantiate the CountVectorizer: vec\n",
    "vec = CountVectorizer(tokenizer=lambda x: x.split(', '))  # Object to convert in matrix of token counts \n",
    "\n",
    "# Fit to the data\n",
    "X = vec.fit_transform(df_text) # Convert df.bike_type to matrix of token\n",
    "print(\"There are {} tokens in the dataset\".format(len(vec.get_feature_names())))"
   ]
  },
  {
   "cell_type": "code",
   "execution_count": 109,
   "metadata": {},
   "outputs": [
    {
     "data": {
      "text/plain": [
       "['all road',\n",
       " 'because i have smarthalo 1 and love it ',\n",
       " \"because it's cool!\",\n",
       " 'bike share bike',\n",
       " 'brompton',\n",
       " 'brompton folding ',\n",
       " 'cargo bike',\n",
       " 'chores / errands',\n",
       " 'commuting',\n",
       " 'cruiser / city bike',\n",
       " 'e-bike',\n",
       " 'endurance training and relaxation',\n",
       " 'faltrad',\n",
       " 'fat',\n",
       " 'fat bike',\n",
       " 'fitness',\n",
       " 'foldable',\n",
       " 'folding',\n",
       " 'for a press review',\n",
       " 'gravel bike',\n",
       " 'hot/humid',\n",
       " 'hybrid bike',\n",
       " 'i bike alone',\n",
       " \"i don't know the way\",\n",
       " \"i don't want to sweat\",\n",
       " 'i feel lazy',\n",
       " 'i have friends/family who also bike',\n",
       " 'i have to carry things with me',\n",
       " 'i want to be healthy',\n",
       " 'i want to reduce my environmental impact',\n",
       " 'i want to set a good example for my kids',\n",
       " 'it energizes me',\n",
       " 'it enhances my calm',\n",
       " 'it was a gift',\n",
       " 'it was a gift. but i bought the new model myself',\n",
       " \"it wouldn't be fun\",\n",
       " \"it's not safe for me\",\n",
       " \"it's not safe for my bike\",\n",
       " \"it's too dark\",\n",
       " 'it’s a unique way to see the world',\n",
       " 'it’s cheaper',\n",
       " 'it’s faster',\n",
       " 'it’s more convenient',\n",
       " 'it’s more fun',\n",
       " 'it’s more reliable',\n",
       " 'it’s my hobby/interest',\n",
       " 'it’s part of my identity/culture',\n",
       " 'local support mtl',\n",
       " 'mountain bike',\n",
       " 'mountain biking',\n",
       " 'night',\n",
       " 'pleasure rides',\n",
       " 'racing',\n",
       " 'rain',\n",
       " 'recumbent',\n",
       " 'recumbent trike',\n",
       " 'road bike',\n",
       " 'safest routes)',\n",
       " 'single-speed bike',\n",
       " 'snow/ice',\n",
       " \"so i don't have to look at my phone while riding\",\n",
       " 'speed pedelec (45km/h e-bike)',\n",
       " 'teaching',\n",
       " 'temperate',\n",
       " 'the route is too long/steep',\n",
       " \"the weather doesn't suit me\",\n",
       " 'time-trial race bike',\n",
       " 'to help keep my bike safe',\n",
       " 'to help me keep track of my environmental goals',\n",
       " 'to help me keep track of my fitness goals',\n",
       " 'to help me navigate',\n",
       " 'to help me stay safe (nightlight',\n",
       " 'to support a new company that came up with a revolutionary design',\n",
       " 'touring',\n",
       " 'touring bike',\n",
       " 'transportation',\n",
       " 'using the latest gadget is also hobby',\n",
       " 'why not?',\n",
       " 'with a riding pack',\n",
       " 'with family and friends',\n",
       " 'with young children',\n",
       " 'work']"
      ]
     },
     "execution_count": 109,
     "metadata": {},
     "output_type": "execute_result"
    }
   ],
   "source": [
    "vec.get_feature_names()"
   ]
  },
  {
   "cell_type": "code",
   "execution_count": 110,
   "metadata": {
    "collapsed": true,
    "jupyter": {
     "outputs_hidden": true
    }
   },
   "outputs": [],
   "source": [
    "# X_train, X_test, y_train, y_test = train_test_split(vec, random_state=456)\n",
    "df_matrix = pd.DataFrame(X.toarray(), columns=vec.get_feature_names())"
   ]
  },
  {
   "cell_type": "markdown",
   "metadata": {
    "jupyter": {
     "source_hidden": true
    }
   },
   "source": [
    "### Unsupervized learning in Python Chap1 p. 31\n",
    "from sklearn.preprocessing import StandardScaler\n",
    "scaler = StandardScaler()\n",
    "scaler.fit(samples)\n",
    "StandardScaler(copy=True, with_mean=True, with_std=True)\n",
    "samples_scaled = scaler.transform(samples)"
   ]
  },
  {
   "cell_type": "markdown",
   "metadata": {
    "jupyter": {
     "source_hidden": true
    }
   },
   "source": [
    "### Unsupervized learning in Python Chap4 p. 7\n",
    "NMF with word frequency array"
   ]
  },
  {
   "cell_type": "code",
   "execution_count": 111,
   "metadata": {},
   "outputs": [],
   "source": [
    "from sklearn.decomposition import NMF\n",
    "\n",
    "matrix = X.toarray()\n",
    "model = NMF(n_components=5)\n",
    "model.fit(matrix)\n",
    "nmf_features = model.transform(matrix)"
   ]
  },
  {
   "cell_type": "code",
   "execution_count": 112,
   "metadata": {},
   "outputs": [
    {
     "data": {
      "text/plain": [
       "0    0.324235\n",
       "1    0.000000\n",
       "2    0.457700\n",
       "3    0.032528\n",
       "4    0.266053\n",
       "Name: Denis, dtype: float64"
      ]
     },
     "execution_count": 112,
     "metadata": {},
     "output_type": "execute_result"
    }
   ],
   "source": [
    "#nmf_features\n",
    "df_nmf = pd.DataFrame(nmf_features,index=names)\n",
    "df_nmf.loc['Denis']"
   ]
  },
  {
   "cell_type": "code",
   "execution_count": 113,
   "metadata": {
    "collapsed": true,
    "jupyter": {
     "outputs_hidden": true
    }
   },
   "outputs": [
    {
     "data": {
      "text/plain": [
       "array([[0.57622749, 0.40019563, 0.        , 0.37881642, 0.        ],\n",
       "       [0.48494995, 0.        , 0.23148287, 0.37401321, 0.00563147],\n",
       "       [0.09439161, 0.69012186, 0.12969435, 0.37853788, 0.16453744],\n",
       "       [0.13694865, 0.45912209, 0.05894664, 0.36622113, 0.57249048],\n",
       "       [0.        , 0.19111287, 0.20631998, 0.        , 0.58015356],\n",
       "       [0.62966642, 0.41413083, 0.29604919, 0.03689542, 0.08695188],\n",
       "       [0.        , 0.07265479, 0.10571039, 0.01258092, 0.44806399],\n",
       "       [0.38794307, 0.        , 0.29864271, 0.37079314, 0.        ],\n",
       "       [0.56276071, 0.04658789, 0.21959451, 0.01373903, 0.25927396],\n",
       "       [0.49177756, 0.        , 0.        , 0.        , 0.35815256],\n",
       "       [0.        , 0.54996261, 0.15845847, 0.33795733, 0.34599928],\n",
       "       [0.53601018, 0.33979367, 0.50335469, 0.29480592, 0.        ],\n",
       "       [0.06986193, 0.50685006, 0.21852615, 0.        , 0.52414106],\n",
       "       [0.42889064, 0.07587279, 0.21117942, 0.01822361, 0.17578889],\n",
       "       [0.32423529, 0.        , 0.45769994, 0.03252804, 0.2660533 ],\n",
       "       [0.17060887, 0.07549667, 0.78122626, 0.29475371, 0.        ],\n",
       "       [0.60362484, 0.40711325, 0.24341007, 0.        , 0.        ],\n",
       "       [0.        , 0.609341  , 0.05767476, 0.39717731, 0.46700013],\n",
       "       [0.        , 0.13696036, 0.20143402, 0.28344449, 0.50164876],\n",
       "       [0.72156476, 0.22638781, 0.16296055, 0.        , 0.        ],\n",
       "       [0.        , 0.23988508, 0.31273703, 0.        , 0.38813324],\n",
       "       [0.        , 0.2844086 , 0.26718551, 0.        , 0.58782857],\n",
       "       [0.02033073, 0.        , 0.20477768, 0.04928374, 0.1986461 ],\n",
       "       [0.61427977, 0.04622373, 0.        , 0.23217147, 0.11255297],\n",
       "       [0.27730258, 0.        , 0.33447941, 0.06320741, 0.04949374],\n",
       "       [0.56417601, 0.        , 0.03597247, 0.02035991, 0.57214504],\n",
       "       [0.33103507, 0.50113814, 0.        , 0.01987063, 0.07655734],\n",
       "       [0.53193388, 0.38255815, 0.14854842, 0.02419381, 0.1124657 ],\n",
       "       [0.66642525, 0.11310685, 0.08728204, 0.02251034, 0.19824194],\n",
       "       [0.        , 0.58545058, 0.        , 0.22344359, 0.52149846],\n",
       "       [0.55066094, 0.04418437, 0.17879354, 0.04680339, 0.32319337],\n",
       "       [0.16793421, 0.66959845, 0.07617267, 0.34748387, 0.56042318],\n",
       "       [0.46480276, 0.        , 0.25938276, 0.30585062, 0.        ],\n",
       "       [0.20956217, 0.01503954, 0.65726512, 0.        , 0.48712895],\n",
       "       [0.5183243 , 0.36921624, 0.        , 0.04810623, 0.26668981],\n",
       "       [0.56890117, 0.        , 0.09877587, 0.02375445, 0.24385365],\n",
       "       [0.        , 0.35772409, 0.44244114, 0.35491046, 0.26392266],\n",
       "       [0.57333467, 0.54404037, 0.23842849, 0.        , 0.10470313],\n",
       "       [0.31345267, 0.        , 0.56601172, 0.        , 0.23921407],\n",
       "       [0.        , 0.22779145, 0.37554566, 0.        , 0.42148491],\n",
       "       [0.        , 0.17627514, 0.47819026, 0.2936464 , 0.43727373],\n",
       "       [0.31541747, 0.10129525, 0.04604914, 0.01619042, 0.47691527],\n",
       "       [0.39573905, 0.56234276, 0.        , 0.00983711, 0.50780338],\n",
       "       [0.05174328, 0.22127719, 0.23438314, 0.35200138, 0.59359803],\n",
       "       [0.53645841, 0.08611904, 0.50801462, 0.        , 0.28058213],\n",
       "       [0.        , 0.26402916, 0.24349153, 0.03201254, 0.57013121],\n",
       "       [0.61131827, 0.321678  , 0.24613199, 0.32960877, 0.        ],\n",
       "       [0.50149529, 0.51168656, 0.        , 0.31512875, 0.12427173],\n",
       "       [0.44303208, 0.        , 0.        , 0.31047668, 0.35195528],\n",
       "       [0.28256423, 0.30589821, 0.08945621, 0.38075169, 0.53734519],\n",
       "       [0.06585927, 0.07171479, 0.        , 0.26809922, 0.7629645 ],\n",
       "       [0.49275047, 0.49232749, 0.09329195, 0.30400515, 0.32320557],\n",
       "       [0.        , 0.        , 0.2766192 , 0.        , 0.24832082],\n",
       "       [0.66543151, 0.62571133, 0.09398356, 0.08195112, 0.10721187],\n",
       "       [0.        , 0.43756709, 0.03374399, 0.35670468, 0.2518858 ],\n",
       "       [0.26183747, 0.83282397, 0.1327897 , 0.03856041, 0.        ],\n",
       "       [0.        , 0.        , 0.21905655, 0.2819636 , 0.0274531 ],\n",
       "       [0.65540542, 0.18310118, 0.        , 0.28420101, 0.04576824],\n",
       "       [0.20587401, 0.        , 0.06451841, 0.08458975, 0.86708444],\n",
       "       [0.53830688, 0.37353858, 0.26751625, 0.36579607, 0.05429748],\n",
       "       [0.33042573, 0.19611391, 0.31538203, 0.29245289, 0.04233779],\n",
       "       [0.00670388, 0.44966671, 0.26494352, 0.34637853, 0.04812982],\n",
       "       [0.56155994, 0.35091943, 0.17707213, 0.07858491, 0.20002772],\n",
       "       [0.48677056, 0.24917629, 0.247487  , 0.20699111, 0.05968919],\n",
       "       [0.        , 0.        , 0.19199729, 0.38981093, 0.        ],\n",
       "       [0.18108898, 0.60283353, 0.40648797, 0.        , 0.47049694],\n",
       "       [0.49361305, 0.16318567, 0.31599773, 0.02912524, 0.13512991],\n",
       "       [0.        , 0.        , 0.05681268, 0.        , 0.49262202],\n",
       "       [0.41459294, 0.03053331, 0.28054357, 0.28575567, 0.09668307],\n",
       "       [0.2800453 , 0.1786924 , 0.        , 0.33683031, 0.37645728],\n",
       "       [0.52316471, 0.37498531, 0.        , 0.31802533, 0.20705965],\n",
       "       [0.50084675, 0.        , 0.08915802, 0.29781593, 0.14020438],\n",
       "       [0.16950819, 0.62778103, 0.        , 0.33778283, 0.53011316],\n",
       "       [0.61277899, 0.5449705 , 0.        , 0.3175191 , 0.01559096],\n",
       "       [0.12665717, 0.        , 0.21634811, 0.02539339, 0.12215079],\n",
       "       [0.56579603, 0.61374387, 0.        , 0.        , 0.        ],\n",
       "       [0.05440983, 0.71260525, 0.        , 0.31480476, 0.5944194 ],\n",
       "       [0.41630176, 0.18102055, 0.14749049, 0.        , 0.09311873],\n",
       "       [0.2866507 , 0.3147513 , 0.29799544, 0.22280175, 0.50489199],\n",
       "       [0.49843493, 0.08047265, 0.        , 0.36541611, 0.39491401],\n",
       "       [0.41484962, 0.37411794, 0.29648918, 0.22244445, 0.04513267],\n",
       "       [0.28856058, 0.61101389, 0.        , 0.27308282, 0.27869904],\n",
       "       [0.        , 0.        , 0.33059496, 0.01551891, 0.61488381],\n",
       "       [0.76725867, 0.18928477, 0.01301088, 0.01353284, 0.        ],\n",
       "       [0.50966051, 0.53216357, 0.        , 0.30189657, 0.1997752 ],\n",
       "       [0.34578397, 0.61270831, 0.08108438, 0.05513672, 0.53510402],\n",
       "       [0.4805102 , 0.24565102, 0.51748875, 0.08151639, 0.15502105],\n",
       "       [0.        , 0.12620027, 0.18707046, 0.        , 0.7630195 ],\n",
       "       [0.30840701, 0.26490595, 0.61891321, 0.03698081, 0.15958852],\n",
       "       [0.        , 0.21551823, 0.        , 0.        , 0.5524653 ],\n",
       "       [0.12988188, 0.        , 0.17167313, 0.3251902 , 0.11121843],\n",
       "       [0.1070031 , 0.        , 0.05135943, 0.        , 0.30616725],\n",
       "       [0.28748368, 0.        , 0.19894927, 0.33486417, 0.44145939],\n",
       "       [0.        , 0.06981502, 0.        , 0.00952907, 0.62119398],\n",
       "       [0.65361977, 0.18338601, 0.07819971, 0.02935828, 0.13176821],\n",
       "       [0.16976597, 0.28304097, 0.        , 0.36992955, 0.50148813],\n",
       "       [0.28447211, 0.29409536, 0.18326988, 0.29264357, 0.28256909],\n",
       "       [0.01123255, 0.        , 0.63774915, 0.02792834, 0.41131206],\n",
       "       [0.5610087 , 0.06700036, 0.582567  , 0.04186019, 0.05978587],\n",
       "       [0.48676039, 0.11889173, 0.21459704, 0.3209933 , 0.21920884],\n",
       "       [0.        , 0.47421034, 0.181665  , 0.35167655, 0.39709338],\n",
       "       [0.26195183, 0.16705288, 0.        , 0.03057149, 0.58200592],\n",
       "       [0.4628274 , 0.35682193, 0.51498954, 0.32548906, 0.02735123],\n",
       "       [0.43244712, 0.04739827, 0.30930216, 0.35281697, 0.09228175],\n",
       "       [0.08104058, 0.63318692, 0.        , 0.31662818, 0.32200191],\n",
       "       [0.19184742, 0.07861425, 0.52531985, 0.2664178 , 0.14139832],\n",
       "       [0.34301558, 0.55484398, 0.        , 0.30739311, 0.44020484],\n",
       "       [0.66292623, 0.47346963, 0.24107379, 0.04815242, 0.00682117],\n",
       "       [0.41061029, 0.45014921, 0.40164424, 0.24077883, 0.15614915],\n",
       "       [0.78530132, 0.10527174, 0.13395333, 0.0383911 , 0.15002294],\n",
       "       [0.        , 0.36933176, 0.46655   , 0.01820463, 0.20113588],\n",
       "       [0.62906939, 0.18302385, 0.17141632, 0.        , 0.45453188],\n",
       "       [0.44412576, 0.59070302, 0.12790577, 0.36848821, 0.00255252],\n",
       "       [0.03525704, 0.14479533, 0.3568726 , 0.38853095, 0.58057614],\n",
       "       [0.30476958, 0.36352086, 0.25978838, 0.25800668, 0.39850903],\n",
       "       [0.18072547, 0.02884631, 0.30960698, 0.37808349, 0.43043619],\n",
       "       [0.51846776, 0.3609194 , 0.12325548, 0.        , 0.        ],\n",
       "       [0.3543461 , 0.        , 0.        , 0.01165521, 0.7053783 ],\n",
       "       [0.42751371, 0.37792296, 0.23784979, 0.        , 0.27939498],\n",
       "       [0.26372086, 0.32852332, 0.17376583, 0.        , 0.02496015],\n",
       "       [0.13305966, 0.06865985, 0.        , 0.        , 0.46492484],\n",
       "       [0.19292078, 0.19680045, 0.52963873, 0.32428482, 0.14012415],\n",
       "       [0.12120171, 0.10403866, 0.3509241 , 0.0422733 , 0.73683733],\n",
       "       [0.43120068, 0.01319699, 0.15306184, 0.05317432, 0.56211896],\n",
       "       [0.2458503 , 0.40168577, 0.07152099, 0.33433745, 0.39359999],\n",
       "       [0.55930071, 0.        , 0.19213969, 0.36257567, 0.07610541],\n",
       "       [0.60584019, 0.39113148, 0.06459506, 0.3129617 , 0.        ],\n",
       "       [0.11438987, 0.61440334, 0.15157231, 0.36593843, 0.10925997],\n",
       "       [0.42726694, 0.55403748, 0.0379786 , 0.31927517, 0.09966145],\n",
       "       [0.12712216, 0.61649213, 0.13707544, 0.38892259, 0.26383797],\n",
       "       [0.61221584, 0.17131248, 0.28990458, 0.        , 0.        ],\n",
       "       [0.12520851, 0.44854521, 0.44519406, 0.27329963, 0.        ],\n",
       "       [0.1285865 , 0.19703619, 0.        , 0.19387616, 0.51423044],\n",
       "       [0.04179701, 0.11230991, 0.54678337, 0.        , 0.57567882],\n",
       "       [0.24902132, 0.        , 0.05373185, 0.33590602, 0.05870184],\n",
       "       [0.07470173, 0.24119705, 0.43797515, 0.2025388 , 0.37337718],\n",
       "       [0.        , 0.        , 0.        , 0.        , 0.7936085 ],\n",
       "       [0.04791798, 0.38772456, 0.16641952, 0.38329049, 0.52671561],\n",
       "       [0.        , 0.10795095, 0.6832479 , 0.        , 0.50652698],\n",
       "       [0.27096316, 0.0488182 , 0.        , 0.03747605, 0.56440038],\n",
       "       [0.16638193, 0.67540622, 0.        , 0.24969223, 0.07917537],\n",
       "       [0.09741614, 0.        , 0.89713296, 0.05610665, 0.11260977],\n",
       "       [0.09615896, 0.15671539, 0.20196358, 0.0104809 , 0.57538852],\n",
       "       [0.36202667, 0.47881062, 0.        , 0.3057557 , 0.0497905 ],\n",
       "       [0.09924683, 0.68753395, 0.        , 0.31098643, 0.16145872]])"
      ]
     },
     "execution_count": 113,
     "metadata": {},
     "output_type": "execute_result"
    }
   ],
   "source": [
    "nmf_features"
   ]
  },
  {
   "cell_type": "code",
   "execution_count": 114,
   "metadata": {},
   "outputs": [
    {
     "name": "stdout",
     "output_type": "stream",
     "text": [
      "(5, 82)\n",
      "safest routes)                              3.049341\n",
      "to help me stay safe (nightlight            3.049341\n",
      "to help keep my bike safe                   1.029750\n",
      "because it's cool!                          0.928229\n",
      "i want to reduce my environmental impact    0.872611\n",
      "i have to carry things with me              0.833737\n",
      "to help me navigate                         0.789295\n",
      "Name: 3, dtype: float64\n"
     ]
    }
   ],
   "source": [
    "# Create a DataFrame: components_df\n",
    "components_df = pd.DataFrame(model.components_, columns=vec.get_feature_names())\n",
    "\n",
    "# Print the shape of the DataFrame\n",
    "print(components_df.shape)\n",
    "\n",
    "# Select row 3: component\n",
    "component = components_df.iloc[3,:]\n",
    "\n",
    "# Print result of nlargest\n",
    "print(component.nlargest(7))"
   ]
  },
  {
   "cell_type": "code",
   "execution_count": 115,
   "metadata": {},
   "outputs": [
    {
     "data": {
      "text/html": [
       "<div>\n",
       "<style scoped>\n",
       "    .dataframe tbody tr th:only-of-type {\n",
       "        vertical-align: middle;\n",
       "    }\n",
       "\n",
       "    .dataframe tbody tr th {\n",
       "        vertical-align: top;\n",
       "    }\n",
       "\n",
       "    .dataframe thead th {\n",
       "        text-align: right;\n",
       "    }\n",
       "</style>\n",
       "<table border=\"1\" class=\"dataframe\">\n",
       "  <thead>\n",
       "    <tr style=\"text-align: right;\">\n",
       "      <th></th>\n",
       "      <th>all road</th>\n",
       "      <th>because i have smarthalo 1 and love it</th>\n",
       "      <th>because it's cool!</th>\n",
       "      <th>bike share bike</th>\n",
       "      <th>brompton</th>\n",
       "      <th>brompton folding</th>\n",
       "      <th>cargo bike</th>\n",
       "      <th>chores / errands</th>\n",
       "      <th>commuting</th>\n",
       "      <th>cruiser / city bike</th>\n",
       "      <th>...</th>\n",
       "      <th>to support a new company that came up with a revolutionary design</th>\n",
       "      <th>touring</th>\n",
       "      <th>touring bike</th>\n",
       "      <th>transportation</th>\n",
       "      <th>using the latest gadget is also hobby</th>\n",
       "      <th>why not?</th>\n",
       "      <th>with a riding pack</th>\n",
       "      <th>with family and friends</th>\n",
       "      <th>with young children</th>\n",
       "      <th>work</th>\n",
       "    </tr>\n",
       "  </thead>\n",
       "  <tbody>\n",
       "    <tr>\n",
       "      <th>0</th>\n",
       "      <td>0.000000</td>\n",
       "      <td>0.016720</td>\n",
       "      <td>0.231909</td>\n",
       "      <td>0.192721</td>\n",
       "      <td>0.016575</td>\n",
       "      <td>0.011062</td>\n",
       "      <td>0.248264</td>\n",
       "      <td>0.629390</td>\n",
       "      <td>1.177293</td>\n",
       "      <td>0.315791</td>\n",
       "      <td>...</td>\n",
       "      <td>0.027472</td>\n",
       "      <td>0.054407</td>\n",
       "      <td>0.025926</td>\n",
       "      <td>0.957008</td>\n",
       "      <td>0.00000</td>\n",
       "      <td>0.010643</td>\n",
       "      <td>0.000000</td>\n",
       "      <td>0.000000</td>\n",
       "      <td>0.266683</td>\n",
       "      <td>0.598050</td>\n",
       "    </tr>\n",
       "    <tr>\n",
       "      <th>1</th>\n",
       "      <td>0.000000</td>\n",
       "      <td>0.000000</td>\n",
       "      <td>0.000000</td>\n",
       "      <td>0.010573</td>\n",
       "      <td>0.000000</td>\n",
       "      <td>0.015176</td>\n",
       "      <td>0.000000</td>\n",
       "      <td>1.208671</td>\n",
       "      <td>0.780691</td>\n",
       "      <td>0.000000</td>\n",
       "      <td>...</td>\n",
       "      <td>0.000000</td>\n",
       "      <td>0.000000</td>\n",
       "      <td>0.005043</td>\n",
       "      <td>0.383217</td>\n",
       "      <td>0.00000</td>\n",
       "      <td>0.016267</td>\n",
       "      <td>0.240555</td>\n",
       "      <td>0.568806</td>\n",
       "      <td>0.000000</td>\n",
       "      <td>0.000000</td>\n",
       "    </tr>\n",
       "    <tr>\n",
       "      <th>2</th>\n",
       "      <td>0.057991</td>\n",
       "      <td>0.000000</td>\n",
       "      <td>1.025569</td>\n",
       "      <td>0.000000</td>\n",
       "      <td>0.000000</td>\n",
       "      <td>0.000000</td>\n",
       "      <td>0.144056</td>\n",
       "      <td>0.000000</td>\n",
       "      <td>0.000000</td>\n",
       "      <td>0.000000</td>\n",
       "      <td>...</td>\n",
       "      <td>0.007282</td>\n",
       "      <td>1.414050</td>\n",
       "      <td>0.006226</td>\n",
       "      <td>0.303775</td>\n",
       "      <td>0.08158</td>\n",
       "      <td>0.000000</td>\n",
       "      <td>0.101803</td>\n",
       "      <td>0.443867</td>\n",
       "      <td>0.012126</td>\n",
       "      <td>1.240904</td>\n",
       "    </tr>\n",
       "    <tr>\n",
       "      <th>3</th>\n",
       "      <td>0.000000</td>\n",
       "      <td>0.034074</td>\n",
       "      <td>0.928229</td>\n",
       "      <td>0.000000</td>\n",
       "      <td>0.023684</td>\n",
       "      <td>0.014020</td>\n",
       "      <td>0.000000</td>\n",
       "      <td>0.000000</td>\n",
       "      <td>0.000000</td>\n",
       "      <td>0.000000</td>\n",
       "      <td>...</td>\n",
       "      <td>0.000000</td>\n",
       "      <td>0.430854</td>\n",
       "      <td>0.000000</td>\n",
       "      <td>0.495448</td>\n",
       "      <td>0.00000</td>\n",
       "      <td>0.014734</td>\n",
       "      <td>0.013202</td>\n",
       "      <td>0.000000</td>\n",
       "      <td>0.000000</td>\n",
       "      <td>0.207794</td>\n",
       "    </tr>\n",
       "    <tr>\n",
       "      <th>4</th>\n",
       "      <td>0.000000</td>\n",
       "      <td>0.000000</td>\n",
       "      <td>0.401131</td>\n",
       "      <td>0.056912</td>\n",
       "      <td>0.000000</td>\n",
       "      <td>0.000000</td>\n",
       "      <td>0.000000</td>\n",
       "      <td>0.000000</td>\n",
       "      <td>0.508388</td>\n",
       "      <td>0.541816</td>\n",
       "      <td>...</td>\n",
       "      <td>0.000000</td>\n",
       "      <td>0.105396</td>\n",
       "      <td>0.000000</td>\n",
       "      <td>0.574455</td>\n",
       "      <td>0.00000</td>\n",
       "      <td>0.000000</td>\n",
       "      <td>0.000000</td>\n",
       "      <td>0.289960</td>\n",
       "      <td>0.175727</td>\n",
       "      <td>0.000000</td>\n",
       "    </tr>\n",
       "  </tbody>\n",
       "</table>\n",
       "<p>5 rows × 82 columns</p>\n",
       "</div>"
      ],
      "text/plain": [
       "   all road  because i have smarthalo 1 and love it   because it's cool!  \\\n",
       "0  0.000000                                 0.016720            0.231909   \n",
       "1  0.000000                                 0.000000            0.000000   \n",
       "2  0.057991                                 0.000000            1.025569   \n",
       "3  0.000000                                 0.034074            0.928229   \n",
       "4  0.000000                                 0.000000            0.401131   \n",
       "\n",
       "   bike share bike  brompton  brompton folding   cargo bike  chores / errands  \\\n",
       "0         0.192721  0.016575           0.011062    0.248264          0.629390   \n",
       "1         0.010573  0.000000           0.015176    0.000000          1.208671   \n",
       "2         0.000000  0.000000           0.000000    0.144056          0.000000   \n",
       "3         0.000000  0.023684           0.014020    0.000000          0.000000   \n",
       "4         0.056912  0.000000           0.000000    0.000000          0.000000   \n",
       "\n",
       "   commuting  cruiser / city bike  ...  \\\n",
       "0   1.177293             0.315791  ...   \n",
       "1   0.780691             0.000000  ...   \n",
       "2   0.000000             0.000000  ...   \n",
       "3   0.000000             0.000000  ...   \n",
       "4   0.508388             0.541816  ...   \n",
       "\n",
       "   to support a new company that came up with a revolutionary design  \\\n",
       "0                                           0.027472                   \n",
       "1                                           0.000000                   \n",
       "2                                           0.007282                   \n",
       "3                                           0.000000                   \n",
       "4                                           0.000000                   \n",
       "\n",
       "    touring  touring bike  transportation  \\\n",
       "0  0.054407      0.025926        0.957008   \n",
       "1  0.000000      0.005043        0.383217   \n",
       "2  1.414050      0.006226        0.303775   \n",
       "3  0.430854      0.000000        0.495448   \n",
       "4  0.105396      0.000000        0.574455   \n",
       "\n",
       "   using the latest gadget is also hobby  why not?  with a riding pack  \\\n",
       "0                                0.00000  0.010643            0.000000   \n",
       "1                                0.00000  0.016267            0.240555   \n",
       "2                                0.08158  0.000000            0.101803   \n",
       "3                                0.00000  0.014734            0.013202   \n",
       "4                                0.00000  0.000000            0.000000   \n",
       "\n",
       "   with family and friends  with young children      work  \n",
       "0                 0.000000             0.266683  0.598050  \n",
       "1                 0.568806             0.000000  0.000000  \n",
       "2                 0.443867             0.012126  1.240904  \n",
       "3                 0.000000             0.000000  0.207794  \n",
       "4                 0.289960             0.175727  0.000000  \n",
       "\n",
       "[5 rows x 82 columns]"
      ]
     },
     "execution_count": 115,
     "metadata": {},
     "output_type": "execute_result"
    }
   ],
   "source": [
    "components_df.head()"
   ]
  },
  {
   "cell_type": "code",
   "execution_count": 117,
   "metadata": {},
   "outputs": [
    {
     "name": "stdout",
     "output_type": "stream",
     "text": [
      "Haywood          1.000000\n",
      "Bromund          0.992530\n",
      "White            0.986070\n",
      "Emmons           0.970333\n",
      "Pearson          0.960125\n",
      "Burgess          0.958185\n",
      "Spinelli         0.951263\n",
      "Solow            0.948735\n",
      "DuBois           0.948410\n",
      "Rathjens         0.948200\n",
      "Schiske          0.945124\n",
      "Lortie           0.939662\n",
      "Lopez            0.901979\n",
      "Nelson           0.899591\n",
      "Stoll            0.898533\n",
      "Bhattacharyya    0.882965\n",
      "B                0.869185\n",
      "Franco           0.864635\n",
      "W                0.863635\n",
      "Ellens           0.862582\n",
      "dtype: float64\n"
     ]
    }
   ],
   "source": [
    "from sklearn.preprocessing import normalize\n",
    "\n",
    "# Normalize the NMF features: norm_features\n",
    "norm_features = normalize(nmf_features)\n",
    "\n",
    "# Create a DataFrame: df\n",
    "dfpersona = pd.DataFrame(norm_features, index=names)\n",
    "\n",
    "# Select the row corresponding to 'Cristiano Ronaldo': article\n",
    "persona = dfpersona.loc['Haywood']\n",
    "\n",
    "# Compute the dot products: similarities\n",
    "similarities = dfpersona.dot(persona)\n",
    "\n",
    "# Display those with the largest cosine similarity\n",
    "print(similarities.nlargest(20))"
   ]
  },
  {
   "cell_type": "code",
   "execution_count": null,
   "metadata": {},
   "outputs": [],
   "source": []
  }
 ],
 "metadata": {
  "kernelspec": {
   "display_name": "pydata1",
   "language": "python",
   "name": "pydata1"
  },
  "language_info": {
   "codemirror_mode": {
    "name": "ipython",
    "version": 3
   },
   "file_extension": ".py",
   "mimetype": "text/x-python",
   "name": "python",
   "nbconvert_exporter": "python",
   "pygments_lexer": "ipython3",
   "version": "3.9.2"
  }
 },
 "nbformat": 4,
 "nbformat_minor": 4
}
